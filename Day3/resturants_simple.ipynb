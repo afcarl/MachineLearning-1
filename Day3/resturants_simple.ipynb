{
 "cells": [
  {
   "cell_type": "markdown",
   "metadata": {},
   "source": [
    "## Very simple notebook that fits the restaurants revenue data sets using RFR and GBR"
   ]
  },
  {
   "cell_type": "markdown",
   "metadata": {},
   "source": [
    "# Import libraries and read training and testing data files"
   ]
  },
  {
   "cell_type": "code",
   "execution_count": 1,
   "metadata": {
    "collapsed": false
   },
   "outputs": [],
   "source": [
    "import pandas as pd\n",
    "import csv as csv\n",
    "from datetime import datetime\n",
    "from sklearn.ensemble import RandomForestRegressor\n",
    "from sklearn.preprocessing import LabelEncoder  \n",
    "from sklearn.ensemble import GradientBoostingRegressor  #GBM algorithm\n",
    "\n",
    "trainData = pd.read_csv('data/train.csv', header=0, parse_dates = [1])\n",
    "testData = pd.read_csv('data/test.csv', header=0, parse_dates = [1])"
   ]
  },
  {
   "cell_type": "markdown",
   "metadata": {},
   "source": [
    "# Convert 'Open date' , 'City', 'City Group, and 'Type' to numerical values"
   ]
  },
  {
   "cell_type": "code",
   "execution_count": 2,
   "metadata": {
    "collapsed": false
   },
   "outputs": [],
   "source": [
    "# Replace 'Open Date' by a feature representing the age of the resturant in years\n",
    "# Replace 'Type', 'City' and 'City Group' by integer indicators \n",
    "trainData['Open Date'] = (datetime.now() - trainData['Open Date']).astype('timedelta64[D]') / 365   \n",
    "trainData['Type'] = LabelEncoder().fit_transform(trainData['Type'])\n",
    "trainData['City Group'] = LabelEncoder().fit_transform(trainData['City Group'])\n",
    "trainData['City'] = LabelEncoder().fit_transform(trainData['City'])\n",
    "# Separate the Y array\n",
    "Y_train = trainData['revenue']\n",
    "# Drop the Id and Y variable to create the finale X array to be fitted\n",
    "X_train = trainData.drop(['Id','revenue'], axis=1) \n",
    "\n",
    "# Same for Test data\n",
    "testData['Open Date'] = (datetime.now() - testData['Open Date']).astype('timedelta64[D]') / 365   \n",
    "testData['Type'] = LabelEncoder().fit_transform(testData['Type'])\n",
    "testData['City Group'] = LabelEncoder().fit_transform(testData['City Group'])\n",
    "testData['City'] = LabelEncoder().fit_transform(testData['City'])\n",
    "ids = testData['Id'].values\n",
    "testData = testData.drop(['Id'], axis=1) \n",
    "\n",
    "\n",
    "# Note: You need to restart the Kernel after any modifications to this cell"
   ]
  },
  {
   "cell_type": "markdown",
   "metadata": {},
   "source": [
    "# Simple Random Forest Regressor fit and Submission file"
   ]
  },
  {
   "cell_type": "code",
   "execution_count": 3,
   "metadata": {
    "collapsed": false
   },
   "outputs": [
    {
     "name": "stdout",
     "output_type": "stream",
     "text": [
      "Done.\n"
     ]
    }
   ],
   "source": [
    "# Creating a RFR with mostly default parameters\n",
    "forest=RandomForestRegressor(n_estimators=1000, criterion='mse', max_depth=None, min_samples_split=2, \n",
    "                                       min_samples_leaf=1, min_weight_fraction_leaf=0.0, max_features='auto', \n",
    "                                       max_leaf_nodes=None, bootstrap=True, oob_score=False, n_jobs=-1, \n",
    "                                       random_state=None, verbose=0, warm_start=False)\n",
    "# Fit the training data\n",
    "forest=forest.fit(X_train,Y_train )\n",
    "# Predict the testing data\n",
    "output = forest.predict(testData)\n",
    "\n",
    "# Write into submission file\n",
    "predictions_file = open(\"simpleRFR.csv\", \"wb\")\n",
    "open_file_object = csv.writer(predictions_file)\n",
    "open_file_object.writerow([\"Id\",\"Prediction\"])\n",
    "open_file_object.writerows(zip(ids, output))\n",
    "predictions_file.close()\n",
    "print 'Done.'"
   ]
  },
  {
   "cell_type": "markdown",
   "metadata": {},
   "source": [
    "# Simple Gradient Boosting Regressor fit and Submission file"
   ]
  },
  {
   "cell_type": "code",
   "execution_count": 4,
   "metadata": {
    "collapsed": false
   },
   "outputs": [
    {
     "name": "stdout",
     "output_type": "stream",
     "text": [
      "Done.\n"
     ]
    }
   ],
   "source": [
    "# Creating a RFR with mostly default parameters\n",
    "gbr=GradientBoostingRegressor(max_depth= None, max_features= 'auto', min_samples_leaf=1, n_estimators= 1000, learning_rate= 0.01)\n",
    "# Fit the training data\n",
    "gbr=gbr.fit(X_train,Y_train )\n",
    "# Predict the testing data\n",
    "output = gbr.predict(testData)\n",
    "\n",
    "# Write into submission file\n",
    "predictions_file = open(\"simpleGBR.csv\", \"wb\")\n",
    "open_file_object = csv.writer(predictions_file)\n",
    "open_file_object.writerow([\"Id\",\"Prediction\"])\n",
    "open_file_object.writerows(zip(ids, output))\n",
    "predictions_file.close()\n",
    "print 'Done.'"
   ]
  }
 ],
 "metadata": {
  "kernelspec": {
   "display_name": "Python 2",
   "language": "python",
   "name": "python2"
  },
  "language_info": {
   "codemirror_mode": {
    "name": "ipython",
    "version": 2
   },
   "file_extension": ".py",
   "mimetype": "text/x-python",
   "name": "python",
   "nbconvert_exporter": "python",
   "pygments_lexer": "ipython2",
   "version": "2.7.11"
  }
 },
 "nbformat": 4,
 "nbformat_minor": 0
}
