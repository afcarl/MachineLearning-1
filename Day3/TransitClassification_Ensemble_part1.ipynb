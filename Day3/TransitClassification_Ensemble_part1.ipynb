{
 "cells": [
  {
   "cell_type": "markdown",
   "metadata": {},
   "source": [
    "# Transit_classification \n",
    "## Ensemble algorithms - part I"
   ]
  },
  {
   "cell_type": "markdown",
   "metadata": {},
   "source": [
    "In the past month, we experimented classification on various datasets:\n",
    "\n",
    "- white noise only; \n",
    "- white noise + red noise;\n",
    "- planets with various size and size distributions;\n",
    "- planets with various periods.\n",
    "\n",
    "For each datasets, we also explored two type of features: \n",
    "\n",
    "- features from light curves. \n",
    "- features from frequency spectra of light curves. \n",
    "\n",
    "We also applied various algorithms for the classifications, including: \n",
    "\n",
    "- SVC\n",
    "- Random Forest Classifer\n",
    "- Gradient Boosting Classifer "
   ]
  },
  {
   "cell_type": "markdown",
   "metadata": {},
   "source": [
    "Today, we want to **combine the predictions of several base estimators built with a given learning algorithm in order to improve generalizability / robustness over a single estimator**."
   ]
  },
  {
   "cell_type": "markdown",
   "metadata": {},
   "source": [
    "We start with introducing the performance of each individual algorithms for the data set that's closest to real data. We will use the simulated data with both white and red noise, three type of planet with realistic planet ratios, and allow the planets to have various periods.  "
   ]
  },
  {
   "cell_type": "markdown",
   "metadata": {},
   "source": [
    "To speed up the process, we performed the **data manipulation** and **feature selection** ahead and saved the opitimzied feature into individual file for different algorithms. \n",
    "For details, go through all the other note books in the git repository. "
   ]
  },
  {
   "cell_type": "code",
   "execution_count": 1,
   "metadata": {
    "collapsed": false
   },
   "outputs": [
    {
     "name": "stderr",
     "output_type": "stream",
     "text": [
      "/opt/local/Library/Frameworks/Python.framework/Versions/2.7/lib/python2.7/site-packages/sklearn/cross_validation.py:42: DeprecationWarning: This module has been deprecated in favor of the model_selection module into which all the refactored classes and functions are moved. Also note that the interface of the new CV iterators are different from that of this module. This module will be removed in 0.20.\n",
      "  \"This module will be removed in 0.20.\", DeprecationWarning)\n",
      "/opt/local/Library/Frameworks/Python.framework/Versions/2.7/lib/python2.7/site-packages/sklearn/grid_search.py:43: DeprecationWarning: This module has been deprecated in favor of the model_selection module into which all the refactored classes and functions are moved. This module will be removed in 0.20.\n",
      "  DeprecationWarning)\n",
      "/Users/chelsea/miniconda2/lib/python2.7/site-packages/matplotlib/font_manager.py:273: UserWarning: Matplotlib is building the font cache using fc-list. This may take a moment.\n",
      "  warnings.warn('Matplotlib is building the font cache using fc-list. This may take a moment.')\n"
     ]
    }
   ],
   "source": [
    "import sklearn\n",
    "from sklearn.linear_model import LogisticRegression\n",
    "from sklearn.cross_validation import train_test_split\n",
    "from sklearn.utils import shuffle\n",
    "from sklearn import metrics\n",
    "from sklearn.metrics import roc_curve\n",
    "from sklearn.metrics import classification_report\n",
    "from sklearn.decomposition import PCA\n",
    "from sklearn.svm import SVC\n",
    "from sklearn.cross_validation import cross_val_score\n",
    "from sklearn.ensemble import RandomForestClassifier\n",
    "from sklearn.ensemble import GradientBoostingClassifier\n",
    "from sklearn.preprocessing import StandardScaler\n",
    "from sklearn.grid_search import GridSearchCV\n",
    "import matplotlib\n",
    "from matplotlib import pyplot as plt\n",
    "import pandas as pd\n",
    "import numpy as np\n",
    "%matplotlib inline"
   ]
  },
  {
   "cell_type": "markdown",
   "metadata": {},
   "source": [
    "Let's introduce the diagnostics we use for each algorithms:\n",
    "\n",
    "   - confusion matrix\n",
    "   - f1 score \n",
    "   - ROC curve\n",
    "   - FP/FN histogram "
   ]
  },
  {
   "cell_type": "code",
   "execution_count": 2,
   "metadata": {
    "collapsed": false
   },
   "outputs": [],
   "source": [
    "def plot_confusion_matrix(cm, title='Confusion matrix', cmap=plt.cm.Blues):\n",
    "    plt.imshow(cm, interpolation='nearest', cmap=cmap)\n",
    "    plt.title(title)\n",
    "    plt.colorbar()\n",
    "    tick_marks = np.arange(2)\n",
    "    plt.xticks(tick_marks, ['false positives', 'transits'], rotation=45)\n",
    "    plt.yticks(tick_marks, ['false positives', 'transits'])\n",
    "    plt.tight_layout()\n",
    "    plt.ylabel('True label')\n",
    "    plt.xlabel('Predicted label')"
   ]
  },
  {
   "cell_type": "code",
   "execution_count": 3,
   "metadata": {
    "collapsed": true
   },
   "outputs": [],
   "source": [
    "def fit(model,name,data):\n",
    "    trainX,trainY,testX,testY,X,Y=data\n",
    "    model.fit(trainX, trainY)\n",
    "    predY = model.predict(testX)\n",
    "    score = metrics.f1_score(predY, testY)\n",
    "    cvscore= cross_val_score(model, X, Y, cv = 5, scoring = 'f1')\n",
    "    print \"#####################################\"\n",
    "    print \"Result using\",model\n",
    "    print \"f1 score from train test split %f\" % score\n",
    "    print \"f1 score from CV5 %f\" % np.mean(cvscore)\n",
    "    cm = metrics.confusion_matrix(testY, predY)\n",
    "    plot_confusion_matrix(cm)\n",
    "    \n",
    "    print cm\n",
    "    make_ROC_curve(testY,predY,name)\n",
    "    return"
   ]
  },
  {
   "cell_type": "code",
   "execution_count": 4,
   "metadata": {
    "collapsed": true
   },
   "outputs": [],
   "source": [
    "def check_FPs(model,testX,testY,testIDs):\n",
    "    predY = model.predict(testX)\n",
    "    index=predY==testY\n",
    "    bins=np.linspace(1000,7000,13)\n",
    "    print bins\n",
    "    plt.hist(testIDs[index],bins=bins)\n",
    "    plt.hist(testIDs[~index],bins=bins)\n",
    "    return"
   ]
  },
  {
   "cell_type": "code",
   "execution_count": 5,
   "metadata": {
    "collapsed": true
   },
   "outputs": [],
   "source": [
    "def make_ROC_curve(testY, predY, name):\n",
    "    fig2 = plt.figure()\n",
    "    ax= fig2.add_subplot(1,1,1)\n",
    "    fpr, tpr, _ = roc_curve(testY, predY)\n",
    "    ax.plot(fpr, tpr, label = name)\n",
    "    ax.set_title(('ROC Curve for %s') % name)\n",
    "    ax.set_ylabel('True Positive Rate')\n",
    "    ax.set_xlabel('False Positive Rate')"
   ]
  },
  {
   "cell_type": "markdown",
   "metadata": {},
   "source": [
    "## Light Curve Features"
   ]
  },
  {
   "cell_type": "code",
   "execution_count": 6,
   "metadata": {
    "collapsed": false
   },
   "outputs": [
    {
     "data": {
      "text/html": [
       "<div>\n",
       "<table border=\"1\" class=\"dataframe\">\n",
       "  <thead>\n",
       "    <tr style=\"text-align: right;\">\n",
       "      <th></th>\n",
       "      <th>P1</th>\n",
       "      <th>P10</th>\n",
       "      <th>P11</th>\n",
       "      <th>P12</th>\n",
       "      <th>P13</th>\n",
       "      <th>P14</th>\n",
       "      <th>P15</th>\n",
       "      <th>P16</th>\n",
       "      <th>P17</th>\n",
       "      <th>P18</th>\n",
       "      <th>...</th>\n",
       "      <th>P2</th>\n",
       "      <th>P20</th>\n",
       "      <th>P3</th>\n",
       "      <th>P4</th>\n",
       "      <th>P5</th>\n",
       "      <th>P6</th>\n",
       "      <th>P7</th>\n",
       "      <th>P8</th>\n",
       "      <th>P9</th>\n",
       "      <th>Y</th>\n",
       "    </tr>\n",
       "  </thead>\n",
       "  <tbody>\n",
       "    <tr>\n",
       "      <th>0</th>\n",
       "      <td>0.540434</td>\n",
       "      <td>0.037771</td>\n",
       "      <td>0.172683</td>\n",
       "      <td>0.097716</td>\n",
       "      <td>-0.018738</td>\n",
       "      <td>-0.083855</td>\n",
       "      <td>-0.015305</td>\n",
       "      <td>-0.024479</td>\n",
       "      <td>0.072492</td>\n",
       "      <td>-0.020243</td>\n",
       "      <td>...</td>\n",
       "      <td>0.074023</td>\n",
       "      <td>0.012748</td>\n",
       "      <td>0.000131</td>\n",
       "      <td>0.124444</td>\n",
       "      <td>0.065360</td>\n",
       "      <td>-0.160775</td>\n",
       "      <td>-0.013139</td>\n",
       "      <td>0.036453</td>\n",
       "      <td>0.245333</td>\n",
       "      <td>1</td>\n",
       "    </tr>\n",
       "    <tr>\n",
       "      <th>1</th>\n",
       "      <td>-2.532882</td>\n",
       "      <td>-0.789132</td>\n",
       "      <td>-2.246332</td>\n",
       "      <td>3.378265</td>\n",
       "      <td>0.235956</td>\n",
       "      <td>1.479276</td>\n",
       "      <td>1.040072</td>\n",
       "      <td>6.274015</td>\n",
       "      <td>-1.205878</td>\n",
       "      <td>3.184005</td>\n",
       "      <td>...</td>\n",
       "      <td>-0.831484</td>\n",
       "      <td>1.836102</td>\n",
       "      <td>1.826742</td>\n",
       "      <td>-1.016748</td>\n",
       "      <td>3.884804</td>\n",
       "      <td>-1.050683</td>\n",
       "      <td>1.477184</td>\n",
       "      <td>-0.394765</td>\n",
       "      <td>-0.925600</td>\n",
       "      <td>0</td>\n",
       "    </tr>\n",
       "    <tr>\n",
       "      <th>2</th>\n",
       "      <td>0.361666</td>\n",
       "      <td>-0.019825</td>\n",
       "      <td>-0.033318</td>\n",
       "      <td>0.230521</td>\n",
       "      <td>0.107373</td>\n",
       "      <td>0.074019</td>\n",
       "      <td>-0.091474</td>\n",
       "      <td>-0.176952</td>\n",
       "      <td>0.110016</td>\n",
       "      <td>-0.159433</td>\n",
       "      <td>...</td>\n",
       "      <td>0.108182</td>\n",
       "      <td>-0.188699</td>\n",
       "      <td>-0.095562</td>\n",
       "      <td>-0.009367</td>\n",
       "      <td>0.486376</td>\n",
       "      <td>0.030885</td>\n",
       "      <td>-0.054621</td>\n",
       "      <td>-0.174604</td>\n",
       "      <td>0.060807</td>\n",
       "      <td>0</td>\n",
       "    </tr>\n",
       "    <tr>\n",
       "      <th>3</th>\n",
       "      <td>0.380572</td>\n",
       "      <td>0.206872</td>\n",
       "      <td>0.113220</td>\n",
       "      <td>0.255521</td>\n",
       "      <td>0.045251</td>\n",
       "      <td>0.123499</td>\n",
       "      <td>-0.005128</td>\n",
       "      <td>0.010042</td>\n",
       "      <td>-0.199220</td>\n",
       "      <td>0.023942</td>\n",
       "      <td>...</td>\n",
       "      <td>-0.004947</td>\n",
       "      <td>-0.090793</td>\n",
       "      <td>0.249673</td>\n",
       "      <td>0.129414</td>\n",
       "      <td>-0.117161</td>\n",
       "      <td>0.084759</td>\n",
       "      <td>0.178725</td>\n",
       "      <td>-0.184050</td>\n",
       "      <td>-0.199539</td>\n",
       "      <td>0</td>\n",
       "    </tr>\n",
       "    <tr>\n",
       "      <th>4</th>\n",
       "      <td>0.525997</td>\n",
       "      <td>-0.017016</td>\n",
       "      <td>-0.022579</td>\n",
       "      <td>0.005492</td>\n",
       "      <td>0.037668</td>\n",
       "      <td>-0.012379</td>\n",
       "      <td>0.006706</td>\n",
       "      <td>0.000026</td>\n",
       "      <td>0.011609</td>\n",
       "      <td>0.005270</td>\n",
       "      <td>...</td>\n",
       "      <td>-0.040689</td>\n",
       "      <td>0.004691</td>\n",
       "      <td>0.033036</td>\n",
       "      <td>0.053111</td>\n",
       "      <td>0.014616</td>\n",
       "      <td>-0.021634</td>\n",
       "      <td>-0.014654</td>\n",
       "      <td>-0.024405</td>\n",
       "      <td>0.006357</td>\n",
       "      <td>0</td>\n",
       "    </tr>\n",
       "  </tbody>\n",
       "</table>\n",
       "<p>5 rows × 21 columns</p>\n",
       "</div>"
      ],
      "text/plain": [
       "         P1       P10       P11       P12       P13       P14       P15  \\\n",
       "0  0.540434  0.037771  0.172683  0.097716 -0.018738 -0.083855 -0.015305   \n",
       "1 -2.532882 -0.789132 -2.246332  3.378265  0.235956  1.479276  1.040072   \n",
       "2  0.361666 -0.019825 -0.033318  0.230521  0.107373  0.074019 -0.091474   \n",
       "3  0.380572  0.206872  0.113220  0.255521  0.045251  0.123499 -0.005128   \n",
       "4  0.525997 -0.017016 -0.022579  0.005492  0.037668 -0.012379  0.006706   \n",
       "\n",
       "        P16       P17       P18 ...        P2       P20        P3        P4  \\\n",
       "0 -0.024479  0.072492 -0.020243 ...  0.074023  0.012748  0.000131  0.124444   \n",
       "1  6.274015 -1.205878  3.184005 ... -0.831484  1.836102  1.826742 -1.016748   \n",
       "2 -0.176952  0.110016 -0.159433 ...  0.108182 -0.188699 -0.095562 -0.009367   \n",
       "3  0.010042 -0.199220  0.023942 ... -0.004947 -0.090793  0.249673  0.129414   \n",
       "4  0.000026  0.011609  0.005270 ... -0.040689  0.004691  0.033036  0.053111   \n",
       "\n",
       "         P5        P6        P7        P8        P9  Y  \n",
       "0  0.065360 -0.160775 -0.013139  0.036453  0.245333  1  \n",
       "1  3.884804 -1.050683  1.477184 -0.394765 -0.925600  0  \n",
       "2  0.486376  0.030885 -0.054621 -0.174604  0.060807  0  \n",
       "3 -0.117161  0.084759  0.178725 -0.184050 -0.199539  0  \n",
       "4  0.014616 -0.021634 -0.014654 -0.024405  0.006357  0  \n",
       "\n",
       "[5 rows x 21 columns]"
      ]
     },
     "execution_count": 6,
     "metadata": {},
     "output_type": "execute_result"
    }
   ],
   "source": [
    "lc_data=pd.read_csv(\"data/BL_CR_ALL_features.csv\",index_col=0)\n",
    "lc_data.head()"
   ]
  },
  {
   "cell_type": "markdown",
   "metadata": {},
   "source": [
    "### SVM"
   ]
  },
  {
   "cell_type": "code",
   "execution_count": 7,
   "metadata": {
    "collapsed": true
   },
   "outputs": [],
   "source": [
    "X=lc_data.drop('Y',axis=1)\n",
    "Y=lc_data['Y']\n",
    "#IDs=lc_darta['ID']\n",
    "X=StandardScaler().fit_transform(X)\n",
    "trainX, testX, trainY, testY= train_test_split(X, Y,test_size = 0.2)"
   ]
  },
  {
   "cell_type": "code",
   "execution_count": 8,
   "metadata": {
    "collapsed": false
   },
   "outputs": [
    {
     "name": "stdout",
     "output_type": "stream",
     "text": [
      "#####################################\n",
      "Result using SVC(C=100, cache_size=200, class_weight=None, coef0=0.0,\n",
      "  decision_function_shape=None, degree=3, gamma=0.005, kernel='rbf',\n",
      "  max_iter=-1, probability=False, random_state=None, shrinking=True,\n",
      "  tol=0.001, verbose=False)\n",
      "f1 score from train test split 0.921450\n",
      "f1 score from CV5 0.909038\n",
      "[[253  36]\n",
      " [ 16 305]]\n"
     ]
    },
    {
     "data": {
      "image/png": "[encoded data removed]",
      "text/plain": [
       "<matplotlib.figure.Figure at 0x106a05950>"
      ]
     },
     "metadata": {},
     "output_type": "display_data"
    },
    {
     "data": {
      "image/png": "[encoded data removed]",
      "text/plain": [
       "<matplotlib.figure.Figure at 0x10b133bd0>"
      ]
     },
     "metadata": {},
     "output_type": "display_data"
    }
   ],
   "source": [
    "model=SVC(gamma=0.005,C=100)\n",
    "name=\"SVC\"\n",
    "data=[trainX,trainY,testX,testY,X,Y]\n",
    "fit(model,name,data)"
   ]
  },
  {
   "cell_type": "markdown",
   "metadata": {},
   "source": [
    "### RFC"
   ]
  },
  {
   "cell_type": "code",
   "execution_count": 9,
   "metadata": {
    "collapsed": false
   },
   "outputs": [
    {
     "name": "stdout",
     "output_type": "stream",
     "text": [
      "#####################################\n",
      "Result using RandomForestClassifier(bootstrap=True, class_weight=None, criterion='gini',\n",
      "            max_depth=None, max_features='auto', max_leaf_nodes=None,\n",
      "            min_samples_leaf=1, min_samples_split=2,\n",
      "            min_weight_fraction_leaf=0.0, n_estimators=1000, n_jobs=1,\n",
      "            oob_score=False, random_state=None, verbose=0,\n",
      "            warm_start=False)\n",
      "f1 score from train test split 0.962382\n",
      "f1 score from CV5 0.958143\n",
      "[[279  10]\n",
      " [ 14 307]]\n"
     ]
    },
    {
     "data": {
      "image/png": "[encoded data removed]",
      "text/plain": [
       "<matplotlib.figure.Figure at 0x10b6a71d0>"
      ]
     },
     "metadata": {},
     "output_type": "display_data"
    },
    {
     "data": {
      "image/png": "[encoded data removed]",
      "text/plain": [
       "<matplotlib.figure.Figure at 0x10bdbe190>"
      ]
     },
     "metadata": {},
     "output_type": "display_data"
    }
   ],
   "source": [
    "model=RandomForestClassifier(n_estimators=1000)\n",
    "name=\"RFC\"\n",
    "fit(model,name,data)"
   ]
  },
  {
   "cell_type": "markdown",
   "metadata": {},
   "source": [
    "### GBC"
   ]
  },
  {
   "cell_type": "code",
   "execution_count": 10,
   "metadata": {
    "collapsed": false
   },
   "outputs": [
    {
     "name": "stdout",
     "output_type": "stream",
     "text": [
      "#####################################\n",
      "Result using GradientBoostingClassifier(init=None, learning_rate=0.1, loss='deviance',\n",
      "              max_depth=3, max_features=None, max_leaf_nodes=None,\n",
      "              min_samples_leaf=1, min_samples_split=2,\n",
      "              min_weight_fraction_leaf=0.0, n_estimators=1000,\n",
      "              presort='auto', random_state=None, subsample=1.0, verbose=0,\n",
      "              warm_start=False)\n",
      "f1 score from train test split 0.965300\n",
      "f1 score from CV5 0.962979\n",
      "[[282   7]\n",
      " [ 15 306]]\n"
     ]
    },
    {
     "data": {
      "image/png": "[encoded data removed]",
      "text/plain": [
       "<matplotlib.figure.Figure at 0x103c55a90>"
      ]
     },
     "metadata": {},
     "output_type": "display_data"
    },
    {
     "data": {
      "image/png": "[encoded data removed]",
      "text/plain": [
       "<matplotlib.figure.Figure at 0x10b6b4f50>"
      ]
     },
     "metadata": {},
     "output_type": "display_data"
    }
   ],
   "source": [
    "model=GradientBoostingClassifier(n_estimators=1000)\n",
    "name=\"GBC\"\n",
    "fit(model,name,data)"
   ]
  },
  {
   "cell_type": "markdown",
   "metadata": {},
   "source": [
    "## Frequency Spectra Features"
   ]
  },
  {
   "cell_type": "markdown",
   "metadata": {},
   "source": [
    "### SVM"
   ]
  },
  {
   "cell_type": "code",
   "execution_count": 11,
   "metadata": {
    "collapsed": false
   },
   "outputs": [
    {
     "data": {
      "text/html": [
       "<div>\n",
       "<table border=\"1\" class=\"dataframe\">\n",
       "  <thead>\n",
       "    <tr style=\"text-align: right;\">\n",
       "      <th></th>\n",
       "      <th>P17</th>\n",
       "      <th>P5</th>\n",
       "      <th>P4</th>\n",
       "      <th>P12</th>\n",
       "      <th>BLS29</th>\n",
       "      <th>P18</th>\n",
       "      <th>BLS3</th>\n",
       "      <th>BLS2</th>\n",
       "      <th>P11</th>\n",
       "      <th>BLS0</th>\n",
       "      <th>...</th>\n",
       "      <th>BLS23</th>\n",
       "      <th>P8</th>\n",
       "      <th>BLS25</th>\n",
       "      <th>BLS6</th>\n",
       "      <th>P0</th>\n",
       "      <th>BLS12</th>\n",
       "      <th>BLS21</th>\n",
       "      <th>BLS10</th>\n",
       "      <th>Y</th>\n",
       "      <th>IDs</th>\n",
       "    </tr>\n",
       "  </thead>\n",
       "  <tbody>\n",
       "    <tr>\n",
       "      <th>684</th>\n",
       "      <td>0.00177</td>\n",
       "      <td>0.02800</td>\n",
       "      <td>0.01688</td>\n",
       "      <td>11</td>\n",
       "      <td>0.322894</td>\n",
       "      <td>31.72044</td>\n",
       "      <td>-0.626337</td>\n",
       "      <td>0.081487</td>\n",
       "      <td>1.00000</td>\n",
       "      <td>1.320577</td>\n",
       "      <td>...</td>\n",
       "      <td>0.114407</td>\n",
       "      <td>0.58729</td>\n",
       "      <td>-0.260834</td>\n",
       "      <td>-0.102534</td>\n",
       "      <td>4.807470</td>\n",
       "      <td>0.378214</td>\n",
       "      <td>-0.630729</td>\n",
       "      <td>-0.021092</td>\n",
       "      <td>1</td>\n",
       "      <td>1684</td>\n",
       "    </tr>\n",
       "    <tr>\n",
       "      <th>559</th>\n",
       "      <td>0.00275</td>\n",
       "      <td>0.01435</td>\n",
       "      <td>0.01297</td>\n",
       "      <td>8</td>\n",
       "      <td>0.327270</td>\n",
       "      <td>12.25300</td>\n",
       "      <td>-1.785808</td>\n",
       "      <td>-0.862720</td>\n",
       "      <td>0.36167</td>\n",
       "      <td>-1.440378</td>\n",
       "      <td>...</td>\n",
       "      <td>-1.636120</td>\n",
       "      <td>0.23961</td>\n",
       "      <td>0.018934</td>\n",
       "      <td>-0.393561</td>\n",
       "      <td>0.736732</td>\n",
       "      <td>-0.417697</td>\n",
       "      <td>0.289651</td>\n",
       "      <td>-1.391188</td>\n",
       "      <td>1</td>\n",
       "      <td>1559</td>\n",
       "    </tr>\n",
       "    <tr>\n",
       "      <th>629</th>\n",
       "      <td>0.00172</td>\n",
       "      <td>0.05325</td>\n",
       "      <td>0.01786</td>\n",
       "      <td>24</td>\n",
       "      <td>-0.926112</td>\n",
       "      <td>50.75688</td>\n",
       "      <td>0.534109</td>\n",
       "      <td>2.068404</td>\n",
       "      <td>0.35051</td>\n",
       "      <td>0.196805</td>\n",
       "      <td>...</td>\n",
       "      <td>0.227809</td>\n",
       "      <td>0.69205</td>\n",
       "      <td>0.229622</td>\n",
       "      <td>-1.113207</td>\n",
       "      <td>2.170708</td>\n",
       "      <td>0.438427</td>\n",
       "      <td>-0.397383</td>\n",
       "      <td>0.737376</td>\n",
       "      <td>1</td>\n",
       "      <td>1629</td>\n",
       "    </tr>\n",
       "    <tr>\n",
       "      <th>192</th>\n",
       "      <td>0.00229</td>\n",
       "      <td>0.05530</td>\n",
       "      <td>0.00933</td>\n",
       "      <td>38</td>\n",
       "      <td>0.272111</td>\n",
       "      <td>9.22637</td>\n",
       "      <td>-0.518754</td>\n",
       "      <td>0.435421</td>\n",
       "      <td>0.99915</td>\n",
       "      <td>0.582126</td>\n",
       "      <td>...</td>\n",
       "      <td>0.013762</td>\n",
       "      <td>0.20962</td>\n",
       "      <td>-0.302891</td>\n",
       "      <td>-0.387688</td>\n",
       "      <td>1.766593</td>\n",
       "      <td>-0.910080</td>\n",
       "      <td>-0.805869</td>\n",
       "      <td>0.027352</td>\n",
       "      <td>1</td>\n",
       "      <td>1192</td>\n",
       "    </tr>\n",
       "    <tr>\n",
       "      <th>835</th>\n",
       "      <td>0.00578</td>\n",
       "      <td>0.03578</td>\n",
       "      <td>0.01634</td>\n",
       "      <td>19</td>\n",
       "      <td>0.018857</td>\n",
       "      <td>12.33050</td>\n",
       "      <td>-0.472106</td>\n",
       "      <td>0.017020</td>\n",
       "      <td>0.60653</td>\n",
       "      <td>0.364031</td>\n",
       "      <td>...</td>\n",
       "      <td>1.747502</td>\n",
       "      <td>0.54715</td>\n",
       "      <td>-0.451786</td>\n",
       "      <td>-0.040582</td>\n",
       "      <td>2.988182</td>\n",
       "      <td>0.744240</td>\n",
       "      <td>-0.774114</td>\n",
       "      <td>-0.430263</td>\n",
       "      <td>1</td>\n",
       "      <td>1835</td>\n",
       "    </tr>\n",
       "  </tbody>\n",
       "</table>\n",
       "<p>5 rows × 32 columns</p>\n",
       "</div>"
      ],
      "text/plain": [
       "         P17       P5       P4  P12     BLS29       P18      BLS3      BLS2  \\\n",
       "684  0.00177  0.02800  0.01688   11  0.322894  31.72044 -0.626337  0.081487   \n",
       "559  0.00275  0.01435  0.01297    8  0.327270  12.25300 -1.785808 -0.862720   \n",
       "629  0.00172  0.05325  0.01786   24 -0.926112  50.75688  0.534109  2.068404   \n",
       "192  0.00229  0.05530  0.00933   38  0.272111   9.22637 -0.518754  0.435421   \n",
       "835  0.00578  0.03578  0.01634   19  0.018857  12.33050 -0.472106  0.017020   \n",
       "\n",
       "         P11      BLS0  ...      BLS23       P8     BLS25      BLS6        P0  \\\n",
       "684  1.00000  1.320577  ...   0.114407  0.58729 -0.260834 -0.102534  4.807470   \n",
       "559  0.36167 -1.440378  ...  -1.636120  0.23961  0.018934 -0.393561  0.736732   \n",
       "629  0.35051  0.196805  ...   0.227809  0.69205  0.229622 -1.113207  2.170708   \n",
       "192  0.99915  0.582126  ...   0.013762  0.20962 -0.302891 -0.387688  1.766593   \n",
       "835  0.60653  0.364031  ...   1.747502  0.54715 -0.451786 -0.040582  2.988182   \n",
       "\n",
       "        BLS12     BLS21     BLS10  Y   IDs  \n",
       "684  0.378214 -0.630729 -0.021092  1  1684  \n",
       "559 -0.417697  0.289651 -1.391188  1  1559  \n",
       "629  0.438427 -0.397383  0.737376  1  1629  \n",
       "192 -0.910080 -0.805869  0.027352  1  1192  \n",
       "835  0.744240 -0.774114 -0.430263  1  1835  \n",
       "\n",
       "[5 rows x 32 columns]"
      ]
     },
     "execution_count": 11,
     "metadata": {},
     "output_type": "execute_result"
    }
   ],
   "source": [
    "SVM_data=pd.read_csv(\"data/BL_CR_BLS_SVM_features.csv\",index_col=0)\n",
    "SVM_data.head()"
   ]
  },
  {
   "cell_type": "code",
   "execution_count": 12,
   "metadata": {
    "collapsed": true
   },
   "outputs": [],
   "source": [
    "X=SVM_data.drop(['Y','IDs'],axis=1)\n",
    "Y=SVM_data['Y']\n",
    "IDs=SVM_data['IDs']\n",
    "X=StandardScaler().fit_transform(X)\n",
    "trainX, testX, trainY, testY,trainIDs,testIDs= train_test_split(X, Y,IDs,test_size = 0.2)"
   ]
  },
  {
   "cell_type": "code",
   "execution_count": 13,
   "metadata": {
    "collapsed": false
   },
   "outputs": [
    {
     "name": "stdout",
     "output_type": "stream",
     "text": [
      "#####################################\n",
      "Result using SVC(C=50, cache_size=200, class_weight=None, coef0=0.0,\n",
      "  decision_function_shape=None, degree=3, gamma=0.05, kernel='rbf',\n",
      "  max_iter=-1, probability=False, random_state=None, shrinking=True,\n",
      "  tol=0.001, verbose=False)\n",
      "f1 score from train test split 0.949914\n",
      "f1 score from CV5 0.926258\n",
      "[[196  18]\n",
      " [ 11 275]]\n"
     ]
    },
    {
     "data": {
      "image/png": "[encoded data removed]",
      "text/plain": [
       "<matplotlib.figure.Figure at 0x10b0e1c10>"
      ]
     },
     "metadata": {},
     "output_type": "display_data"
    },
    {
     "data": {
      "image/png": "[encoded data removed]",
      "text/plain": [
       "<matplotlib.figure.Figure at 0x10be03550>"
      ]
     },
     "metadata": {},
     "output_type": "display_data"
    }
   ],
   "source": [
    "model=SVC(gamma=0.05,C=50)\n",
    "name=\"SVC\"\n",
    "data=[trainX,trainY,testX,testY,X,Y]\n",
    "fit(model,name,data)"
   ]
  },
  {
   "cell_type": "code",
   "execution_count": 14,
   "metadata": {
    "collapsed": false
   },
   "outputs": [
    {
     "name": "stdout",
     "output_type": "stream",
     "text": [
      "[ 1000.  1500.  2000.  2500.  3000.  3500.  4000.  4500.  5000.  5500.\n",
      "  6000.  6500.  7000.]\n"
     ]
    },
    {
     "data": {
      "image/png": "[encoded data removed]",
      "text/plain": [
       "<matplotlib.figure.Figure at 0x10b0e1b50>"
      ]
     },
     "metadata": {},
     "output_type": "display_data"
    }
   ],
   "source": [
    "check_FPs(model,testX,testY,testIDs)"
   ]
  },
  {
   "cell_type": "markdown",
   "metadata": {},
   "source": [
    "### RFC"
   ]
  },
  {
   "cell_type": "code",
   "execution_count": 15,
   "metadata": {
    "collapsed": false
   },
   "outputs": [],
   "source": [
    "RFC_data=pd.read_csv(\"data/BL_CR_BLS_RFC_features.csv\",index_col=0)\n",
    "X=RFC_data.drop(['Y','IDs'],axis=1)\n",
    "X=StandardScaler().fit_transform(X)\n",
    "Y=RFC_data['Y']\n",
    "IDs=RFC_data['IDs']\n",
    "trainX, testX, trainY, testY,trainIDs,testIDs= train_test_split(X, Y,IDs,test_size = 0.2)\n",
    "#RFC_data.head()"
   ]
  },
  {
   "cell_type": "code",
   "execution_count": 16,
   "metadata": {
    "collapsed": false
   },
   "outputs": [
    {
     "name": "stdout",
     "output_type": "stream",
     "text": [
      "#####################################\n",
      "Result using RandomForestClassifier(bootstrap=True, class_weight=None, criterion='gini',\n",
      "            max_depth=None, max_features='auto', max_leaf_nodes=None,\n",
      "            min_samples_leaf=1, min_samples_split=2,\n",
      "            min_weight_fraction_leaf=0.0, n_estimators=1000, n_jobs=1,\n",
      "            oob_score=False, random_state=None, verbose=0,\n",
      "            warm_start=False)\n",
      "f1 score from train test split 0.953416\n",
      "f1 score from CV5 0.943348\n",
      "[[163  22]\n",
      " [  8 307]]\n"
     ]
    },
    {
     "data": {
      "image/png": "[encoded data removed]",
      "text/plain": [
       "<matplotlib.figure.Figure at 0x111213dd0>"
      ]
     },
     "metadata": {},
     "output_type": "display_data"
    },
    {
     "data": {
      "image/png": "[encoded data removed]",
      "text/plain": [
       "<matplotlib.figure.Figure at 0x111142550>"
      ]
     },
     "metadata": {},
     "output_type": "display_data"
    }
   ],
   "source": [
    "model=RandomForestClassifier(n_estimators=1000)\n",
    "name=\"RFC\"\n",
    "data=[trainX,trainY,testX,testY,X,Y]\n",
    "fit(model,name,data)"
   ]
  },
  {
   "cell_type": "code",
   "execution_count": 17,
   "metadata": {
    "collapsed": false
   },
   "outputs": [
    {
     "name": "stdout",
     "output_type": "stream",
     "text": [
      "[ 1000.  1500.  2000.  2500.  3000.  3500.  4000.  4500.  5000.  5500.\n",
      "  6000.  6500.  7000.]\n"
     ]
    },
    {
     "data": {
      "image/png": "[encoded data removed]",
      "text/plain": [
       "<matplotlib.figure.Figure at 0x10b0e1fd0>"
      ]
     },
     "metadata": {},
     "output_type": "display_data"
    }
   ],
   "source": [
    "check_FPs(model,testX,testY,testIDs)"
   ]
  },
  {
   "cell_type": "markdown",
   "metadata": {},
   "source": [
    "### GBC"
   ]
  },
  {
   "cell_type": "code",
   "execution_count": 18,
   "metadata": {
    "collapsed": true
   },
   "outputs": [],
   "source": [
    "GBC_data=pd.read_csv(\"data/BL_CR_BLS_GBC_features.csv\",index_col=0)\n",
    "X=GBC_data.drop(['Y','IDs'],axis=1)\n",
    "X=StandardScaler().fit_transform(X)\n",
    "Y=GBC_data['Y']\n",
    "IDs=GBC_data['IDs']\n",
    "trainX, testX, trainY, testY,trainIDs,testIDs= train_test_split(X, Y,IDs,test_size = 0.2)\n",
    "#GBC_data.head()"
   ]
  },
  {
   "cell_type": "code",
   "execution_count": 19,
   "metadata": {
    "collapsed": false
   },
   "outputs": [
    {
     "name": "stdout",
     "output_type": "stream",
     "text": [
      "#####################################\n",
      "Result using GradientBoostingClassifier(init=None, learning_rate=0.1, loss='deviance',\n",
      "              max_depth=3, max_features=None, max_leaf_nodes=None,\n",
      "              min_samples_leaf=1, min_samples_split=2,\n",
      "              min_weight_fraction_leaf=0.0, n_estimators=1000,\n",
      "              presort='auto', random_state=None, subsample=1.0, verbose=0,\n",
      "              warm_start=False)\n",
      "f1 score from train test split 0.978261\n",
      "f1 score from CV5 0.947199\n",
      "[[171   8]\n",
      " [  6 315]]\n"
     ]
    },
    {
     "data": {
      "image/png": "[encoded data removed]",
      "text/plain": [
       "<matplotlib.figure.Figure at 0x10b0dff10>"
      ]
     },
     "metadata": {},
     "output_type": "display_data"
    },
    {
     "data": {
      "image/png": "[encoded data removed]",
      "text/plain": [
       "<matplotlib.figure.Figure at 0x111225c50>"
      ]
     },
     "metadata": {},
     "output_type": "display_data"
    }
   ],
   "source": [
    "model=GradientBoostingClassifier(n_estimators=1000)\n",
    "name=\"GBC\"\n",
    "data=[trainX,trainY,testX,testY,X,Y]\n",
    "fit(model,name,data)"
   ]
  },
  {
   "cell_type": "code",
   "execution_count": 20,
   "metadata": {
    "collapsed": false
   },
   "outputs": [
    {
     "name": "stdout",
     "output_type": "stream",
     "text": [
      "[ 1000.  1500.  2000.  2500.  3000.  3500.  4000.  4500.  5000.  5500.\n",
      "  6000.  6500.  7000.]\n"
     ]
    },
    {
     "data": {
      "image/png": "[encoded data removed]",
      "text/plain": [
       "<matplotlib.figure.Figure at 0x10be03950>"
      ]
     },
     "metadata": {},
     "output_type": "display_data"
    }
   ],
   "source": [
    "check_FPs(model,testX,testY,testIDs)"
   ]
  },
  {
   "cell_type": "code",
   "execution_count": null,
   "metadata": {
    "collapsed": true
   },
   "outputs": [],
   "source": []
  }
 ],
 "metadata": {
  "kernelspec": {
   "display_name": "Python 2",
   "language": "python",
   "name": "python2"
  },
  "language_info": {
   "codemirror_mode": {
    "name": "ipython",
    "version": 2
   },
   "file_extension": ".py",
   "mimetype": "text/x-python",
   "name": "python",
   "nbconvert_exporter": "python",
   "pygments_lexer": "ipython2",
   "version": "2.7.11"
  }
 },
 "nbformat": 4,
 "nbformat_minor": 0
}
