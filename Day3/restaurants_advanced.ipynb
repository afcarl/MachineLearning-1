{
 "cells": [
  {
   "cell_type": "code",
   "execution_count": 6,
   "metadata": {
    "collapsed": false
   },
   "outputs": [],
   "source": [
    "# Routine by Chelsea X. Huang\n",
    "\n",
    "# Import lots of libraries (fuzzywuzzy lol)\n",
    "import numpy as np\n",
    "import scipy as sp\n",
    "import matplotlib\n",
    "from matplotlib import pyplot as plt\n",
    "import pandas as pd\n",
    "import re\n",
    "import sklearn\n",
    "import datetime\n",
    "from sklearn.cross_validation import train_test_split,cross_val_score\n",
    "from sklearn import metrics\n",
    "from sklearn.ensemble import RandomForestClassifier\n",
    "from sklearn.svm import SVR\n",
    "from sklearn.preprocessing import StandardScaler, RobustScaler\n",
    "from sklearn.feature_selection import SelectPercentile,f_classif,chi2,f_regression\n",
    "from sklearn.ensemble import GradientBoostingRegressor\n",
    "\n"
   ]
  },
  {
   "cell_type": "code",
   "execution_count": 7,
   "metadata": {
    "collapsed": true
   },
   "outputs": [],
   "source": [
    "# Defining a function that pre-process the data\n",
    "def processing(df):\n",
    "    dummies_df = pd.get_dummies(df['City Group'])\n",
    "    def add_CG(name):\n",
    "        return 'CG_' + name\n",
    "    dummies_df = dummies_df.rename(columns=add_CG)\n",
    "    df = pd.concat([df, dummies_df.iloc[:,0]], axis=1)\n",
    "\n",
    "    dummies_df = pd.get_dummies(df['Type'])\n",
    "    def add_Type(name):\n",
    "        return 'Type_' + name\n",
    "    dummies_df = dummies_df.rename(columns=add_Type)\n",
    "    df = pd.concat([df, dummies_df.iloc[:,0:3]], axis=1)\n",
    "\n",
    "    # try to put in age as a column\n",
    "    def add_Age(string):\n",
    "        age=datetime.datetime.now()-datetime.datetime.strptime(string,\"%m/%d/%Y\")\n",
    "        return age.days \n",
    "\n",
    "    df['Age']=df['Open Date'].map(add_Age)\n",
    "    df=df.drop(['Id','Open Date','City','City Group','Type','revenue'],axis=1) \n",
    "    \n",
    "    # RobustScaler scale the features to the same order of magnitude\n",
    "    scaler = RobustScaler().fit(df) \n",
    "    df = scaler.transform(df)\n",
    "    return df"
   ]
  },
  {
   "cell_type": "code",
   "execution_count": 8,
   "metadata": {
    "collapsed": true
   },
   "outputs": [],
   "source": [
    "# read data input files and apply log transformation to revenues\n",
    "df_train=pd.read_csv(\"data/train.csv\")\n",
    "df_test=pd.read_csv(\"data/test.csv\")\n",
    "y=np.log(np.array(df_train[\"revenue\"]))\n",
    "df = pd.concat([df_train, df_test])\n",
    "    \n",
    "# Applying the pre-processing routine\n",
    "df = processing(df)\n",
    "df_train = df[0:137,:]\n",
    "df_test = df[137:,:]\n",
    "X=df_train\n",
    "X_test=df_test\n",
    "    \n",
    "# Defining the regressors\n",
    "model=GradientBoostingRegressor(learning_rate=0.1,max_depth=1, random_state=0, loss='huber')"
   ]
  },
  {
   "cell_type": "code",
   "execution_count": null,
   "metadata": {
    "collapsed": true
   },
   "outputs": [],
   "source": [
    "# SelectPercentile will select best features according to a percentile of the highest scores.\n",
    "selector=SelectPercentile(f_regression,percentile=100)\n",
    "selector.fit(X,y)\n",
    "scores=-np.log10(selector.pvalues_)\n",
    "scores/=scores.max()\n",
    "feature_index_0=scores>0.1\n",
    "X=X[:,feature_index_0] "
   ]
  },
  {
   "cell_type": "code",
   "execution_count": null,
   "metadata": {
    "collapsed": true
   },
   "outputs": [],
   "source": [
    "    \n",
    "# Fit the training set\n",
    "model.nestimators=100\n",
    "model.fit(X,y)\n",
    "\n",
    "# Fit the test set and create submission file\n",
    "X_test=X_test[:,feature_index_0]\n",
    "y_pred=model.predict(X_test)\n",
    "samplesubmit = pd.read_csv(\"data/template.csv\")\n",
    "samplesubmit[\"Prediction\"]=np.exp(y_pred)\n",
    "samplesubmit.to_csv(\"GBR_advanced.csv\",index=False)\n",
    "    "
   ]
  }
 ],
 "metadata": {
  "kernelspec": {
   "display_name": "Python 2",
   "language": "python",
   "name": "python2"
  },
  "language_info": {
   "codemirror_mode": {
    "name": "ipython",
    "version": 2
   },
   "file_extension": ".py",
   "mimetype": "text/x-python",
   "name": "python",
   "nbconvert_exporter": "python",
   "pygments_lexer": "ipython2",
   "version": "2.7.11"
  }
 },
 "nbformat": 4,
 "nbformat_minor": 0
}
