{
 "cells": [
  {
   "cell_type": "markdown",
   "metadata": {},
   "source": [
    "# MachineLearningWorkShop at UCSC\n",
    "## Aug 18th - Learning with TESS Simulated data"
   ]
  },
  {
   "cell_type": "markdown",
   "metadata": {},
   "source": [
    "### Last month we explored all type of learning algorithms with simulated light curves including:\n",
    "- different planet sizes\n",
    "- various period\n",
    "- various white/red noise level\n",
    "- different baseline\n",
    "\n",
    "While the result looked promising, we need to extend our experiments to more realistic data. "
   ]
  },
  {
   "cell_type": "markdown",
   "metadata": {},
   "source": [
    "The data set we are using today is created from **SPyFFI**, an image simulator created by Zack Berta and his undergrad student Jacobi Kosiarok. \n",
    "\n",
    "The ingrediants included by **SPyFFI** are:\n",
    "- catalogs of real stars\n",
    "- somewhat realistic Camera and CCD effects, such as PRF variation, readout smear, resembling the TESS telescope\n",
    "- spacecraft effects such as jitter/focusing change\n",
    "- somewhat realistic noise buget\n",
    "- transits and stellar variability (sine curves) draw from Kepler"
   ]
  },
  {
   "cell_type": "markdown",
   "metadata": {},
   "source": [
    "**SPyFFI** out puts image time series like this:\n",
    "![alt text](ds9.jpeg)"
   ]
  },
  {
   "cell_type": "markdown",
   "metadata": {},
   "source": [
    "We process the images from 10 days of TESS observations with standard photometry pipeline, and create light curves for all the stars with TESS magnituded brighter than 14. \n",
    "\n",
    "For the region of sky we simulated (6 by 6 square degree), this results in 16279 stars. To make our tasks today simpler, we are going to work with only ~4000 stars.  "
   ]
  },
  {
   "cell_type": "code",
   "execution_count": 115,
   "metadata": {
    "collapsed": false
   },
   "outputs": [],
   "source": [
    "import sklearn\n",
    "from sklearn.linear_model import LogisticRegression\n",
    "from sklearn.cross_validation import train_test_split\n",
    "from sklearn.utils import shuffle\n",
    "from sklearn import metrics\n",
    "from sklearn.metrics import roc_curve\n",
    "from sklearn.metrics import classification_report\n",
    "from sklearn.decomposition import PCA\n",
    "from sklearn.svm import SVC\n",
    "from sklearn.cross_validation import cross_val_score\n",
    "from sklearn.ensemble import RandomForestClassifier\n",
    "from sklearn.ensemble import GradientBoostingClassifier\n",
    "from sklearn.preprocessing import StandardScaler\n",
    "from sklearn.grid_search import GridSearchCV\n",
    "import matplotlib\n",
    "from matplotlib import pyplot as plt\n",
    "import pandas as pd\n",
    "import numpy as np\n",
    "%matplotlib inline"
   ]
  },
  {
   "cell_type": "code",
   "execution_count": 133,
   "metadata": {
    "collapsed": true
   },
   "outputs": [],
   "source": [
    "def collect_lc_feature(idlist):\n",
    "    LCfeature=np.zeros([len(idlist),481])\n",
    "    count=0\n",
    "    for i in idlist:\n",
    "        #print i\n",
    "        infile=\"LTFsmall/\"+str(i)+\".ltf\"\n",
    "        lc=np.loadtxt(infile)[:,1]\n",
    "        LCfeature[count,0]=i\n",
    "        LCfeature[count,1:]=lc\n",
    "        count+=1\n",
    "    return LCfeature\n",
    "def plot_confusion_matrix(cm, title='Confusion matrix', cmap=plt.cm.Blues):\n",
    "    plt.imshow(cm, interpolation='nearest', cmap=cmap)\n",
    "    plt.title(title)\n",
    "    plt.colorbar()\n",
    "    tick_marks = np.arange(2)\n",
    "    plt.xticks(tick_marks, ['false positives', 'transits'], rotation=45)\n",
    "    plt.yticks(tick_marks, ['false positives', 'transits'])\n",
    "    plt.tight_layout()\n",
    "    plt.ylabel('True label')\n",
    "    plt.xlabel('Predicted label')\n",
    "def fit(model,name,data,cv=True):\n",
    "    trainX,trainY,testX,testY,X,Y=data\n",
    "    model.fit(trainX, trainY)\n",
    "    predY = model.predict(testX)\n",
    "    score = metrics.f1_score(testY, predY)\n",
    "    \n",
    "    print \"#####################################\"\n",
    "    print \"Result using\",model\n",
    "    print \"f1 score from train test split %f\" % score\n",
    "    if cv:\n",
    "        cvscore= cross_val_score(model, X, Y, cv = 5, scoring = 'f1')\n",
    "        print \"f1 score from CV5 %f\" % np.mean(cvscore)\n",
    "    cm = metrics.confusion_matrix(testY, predY)\n",
    "    plot_confusion_matrix(cm)\n",
    "    \n",
    "    print cm\n",
    "    #make_ROC_curve(testY,predY,name)\n",
    "    return"
   ]
  },
  {
   "cell_type": "markdown",
   "metadata": {},
   "source": [
    "Let's first look at what the TESS light curves: \n",
    "\n",
    "TESS_simulated_10day_small.csv is the combined feature file.\n",
    "\n",
    "TESS_simulated_lc_small.csv is the light curve file."
   ]
  },
  {
   "cell_type": "code",
   "execution_count": 134,
   "metadata": {
    "collapsed": false
   },
   "outputs": [],
   "source": [
    "df=pd.read_csv(\"TESS_simulated_10day_small.csv\",index_col=0)"
   ]
  },
  {
   "cell_type": "code",
   "execution_count": 135,
   "metadata": {
    "collapsed": false
   },
   "outputs": [],
   "source": [
    "#LCfeature=pd.DataFrame(collect_lc_feature(df['Ids']),columns=['Ids']+list(np.arange(480)))\n",
    "LCfeature.to_csv\n",
    "#LCfeature=pd.read_csv(\"TESS_simulated_lc_small.csv\",index_col=0)"
   ]
  },
  {
   "cell_type": "code",
   "execution_count": 120,
   "metadata": {
    "collapsed": false
   },
   "outputs": [
    {
     "data": {
      "text/plain": [
       "[<matplotlib.lines.Line2D at 0x11180e4d0>]"
      ]
     },
     "execution_count": 120,
     "metadata": {},
     "output_type": "execute_result"
    },
    {
     "data": {
      "image/png": "[encoded data removed]",
      "text/plain": [
       "<matplotlib.figure.Figure at 0x119653210>"
      ]
     },
     "metadata": {},
     "output_type": "display_data"
    }
   ],
   "source": [
    "plt.plot(LCfeature.iloc[-1,1:],'.')"
   ]
  },
  {
   "cell_type": "code",
   "execution_count": 121,
   "metadata": {
    "collapsed": false
   },
   "outputs": [
    {
     "data": {
      "text/plain": [
       "[<matplotlib.lines.Line2D at 0x115720910>]"
      ]
     },
     "execution_count": 121,
     "metadata": {},
     "output_type": "execute_result"
    },
    {
     "data": {
      "image/png": "[encoded data removed]",
      "text/plain": [
       "<matplotlib.figure.Figure at 0x111716110>"
      ]
     },
     "metadata": {},
     "output_type": "display_data"
    }
   ],
   "source": [
    "plt.plot(LCfeature.iloc[0,:],'.')"
   ]
  },
  {
   "cell_type": "markdown",
   "metadata": {},
   "source": [
    "The combined feature files contain features from Box Least Squal measurements, and 20 PCA components from the light curve. Later on hopefully we can explore how to create new features from the light curves.\n",
    "\n",
    "Let's first examine the columns in the combined feature files: "
   ]
  },
  {
   "cell_type": "code",
   "execution_count": 122,
   "metadata": {
    "collapsed": false
   },
   "outputs": [
    {
     "data": {
      "text/plain": [
       "Index([u'BLS_Period_1_0', u'BLS_Tc_1_0', u'BLS_SN_1_0', u'BLS_SR_1_0',\n",
       "       u'BLS_SDE_1_0', u'BLS_Depth_1_0', u'BLS_Qtran_1_0', u'BLS_Qingress_1_0',\n",
       "       u'BLS_OOTmag_1_0', u'BLS_i1_1_0', u'BLS_i2_1_0', u'BLS_deltaChi2_1_0',\n",
       "       u'BLS_fraconenight_1_0', u'BLS_Npointsintransit_1_0',\n",
       "       u'BLS_Ntransits_1_0', u'BLS_Npointsbeforetransit_1_0',\n",
       "       u'BLS_Npointsaftertransit_1_0', u'BLS_Rednoise_1_0',\n",
       "       u'BLS_Whitenoise_1_0', u'BLS_SignaltoPinknoise_1_0', u'Ids', u'Depth',\n",
       "       u'Catalog_Period', u'Catalog_Epoch', u'SNR', u'CatalogY', u'ManuleY',\n",
       "       u'CombinedY', u'P0', u'P1', u'P2', u'P3', u'P4', u'P5', u'P6', u'P7',\n",
       "       u'P8', u'P9', u'P10', u'P11', u'P12', u'P13', u'P14', u'P15', u'P16',\n",
       "       u'P17', u'P18', u'P19'],\n",
       "      dtype='object')"
      ]
     },
     "execution_count": 122,
     "metadata": {},
     "output_type": "execute_result"
    }
   ],
   "source": [
    "df.columns"
   ]
  },
  {
   "cell_type": "markdown",
   "metadata": {},
   "source": [
    "Columns **Ids**, **Catalog_Period**, **Depth**, **Catalog_Epoch** records the information we have regarding the injected transits. Anything with period smaller than 0 is not a transit. \n",
    "\n",
    "**SNR** is the signal to noise calculated for the transits using the catalog value. \n",
    "\n",
    "SNR=\\sqrt{Ntransit}*Depth/200mmag\n",
    "\n",
    "There are three type of Y values included in this feature file:\n",
    "\n",
    "-**CatalogY** marks **True** for all the transit planets with **SNR** larger than 8.5 and **BLS_SignaltoPinkNoise_1_0** larger than 7. \n",
    "\n",
    "-**ManuleY** marks **True** all the transits identified by eye. \n",
    "\n",
    "-**CombinedY** marks **True** if either **CatalogY** and **ManuleY** is True. \n",
    "\n",
    "The signals identified by manule effort but not by Catalog is due to blending. The signal missed by manule effort is either because of low signal to noise or due to cuts in Ntransit and Q value (standard practice before manuel inspection). "
   ]
  },
  {
   "cell_type": "markdown",
   "metadata": {},
   "source": [
    "Let's drop the irrelevent columns before training:"
   ]
  },
  {
   "cell_type": "code",
   "execution_count": 123,
   "metadata": {
    "collapsed": false
   },
   "outputs": [],
   "source": [
    "X=df.drop(['Ids','CatalogY','ManuleY','CombinedY','Catalog_Period','Depth','Catalog_Epoch','SNR'],axis=1)\n",
    "#print X.isnull().any()"
   ]
  },
  {
   "cell_type": "code",
   "execution_count": 124,
   "metadata": {
    "collapsed": true
   },
   "outputs": [],
   "source": [
    "Y=df['CombinedY']"
   ]
  },
  {
   "cell_type": "code",
   "execution_count": 125,
   "metadata": {
    "collapsed": true
   },
   "outputs": [],
   "source": [
    "trainX, testX, trainY, testY= train_test_split(X, Y,test_size = 0.2)\n",
    "data=[trainX,trainY,testX,testY,X,Y]"
   ]
  },
  {
   "cell_type": "markdown",
   "metadata": {},
   "source": [
    "We show the results from some standard algorithms here: "
   ]
  },
  {
   "cell_type": "code",
   "execution_count": 127,
   "metadata": {
    "collapsed": false
   },
   "outputs": [
    {
     "name": "stdout",
     "output_type": "stream",
     "text": [
      "#####################################\n",
      "Result using RandomForestClassifier(bootstrap=True, class_weight=None, criterion='gini',\n",
      "            max_depth=None, max_features='auto', max_leaf_nodes=None,\n",
      "            min_samples_leaf=1, min_samples_split=2,\n",
      "            min_weight_fraction_leaf=0.0, n_estimators=1000, n_jobs=-1,\n",
      "            oob_score=False, random_state=None, verbose=0,\n",
      "            warm_start=False)\n",
      "f1 score from train test split 0.846154\n",
      "[[769   3]\n",
      " [  9  33]]\n"
     ]
    },
    {
     "data": {
      "image/png": "[encoded data removed]",
      "text/plain": [
       "<matplotlib.figure.Figure at 0x110cb8510>"
      ]
     },
     "metadata": {},
     "output_type": "display_data"
    }
   ],
   "source": [
    "model=RandomForestClassifier(n_estimators=1000,n_jobs=-1)\n",
    "name=\"RFC\"\n",
    "fit(model,name,data,cv=False)"
   ]
  },
  {
   "cell_type": "code",
   "execution_count": 128,
   "metadata": {
    "collapsed": false
   },
   "outputs": [
    {
     "name": "stdout",
     "output_type": "stream",
     "text": [
      "#####################################\n",
      "Result using GradientBoostingClassifier(init=None, learning_rate=0.1, loss='deviance',\n",
      "              max_depth=3, max_features=None, max_leaf_nodes=None,\n",
      "              min_samples_leaf=1, min_samples_split=2,\n",
      "              min_weight_fraction_leaf=0.0, n_estimators=1000,\n",
      "              presort='auto', random_state=None, subsample=1.0, verbose=0,\n",
      "              warm_start=False)\n",
      "f1 score from train test split 0.846154\n",
      "[[769   3]\n",
      " [  9  33]]\n"
     ]
    },
    {
     "data": {
      "image/png": "[encoded data removed]",
      "text/plain": [
       "<matplotlib.figure.Figure at 0x115735e50>"
      ]
     },
     "metadata": {},
     "output_type": "display_data"
    }
   ],
   "source": [
    "model=GradientBoostingClassifier(n_estimators=1000)\n",
    "name=\"GBC\"\n",
    "fit(model,name,data,cv=False)"
   ]
  },
  {
   "cell_type": "code",
   "execution_count": 131,
   "metadata": {
    "collapsed": false
   },
   "outputs": [
    {
     "name": "stdout",
     "output_type": "stream",
     "text": [
      "#####################################\n",
      "Result using XGBClassifier(base_score=0.5, colsample_bylevel=1, colsample_bytree=1,\n",
      "       gamma=0, learning_rate=0.1, max_delta_step=0, max_depth=3,\n",
      "       min_child_weight=1, missing=None, n_estimators=1000, nthread=-1,\n",
      "       objective='binary:logistic', reg_alpha=0, reg_lambda=1,\n",
      "       scale_pos_weight=1, seed=0, silent=True, subsample=1)\n",
      "f1 score from train test split 0.779221\n",
      "[[767   5]\n",
      " [ 12  30]]\n"
     ]
    },
    {
     "data": {
      "image/png": "[encoded data removed]",
      "text/plain": [
       "<matplotlib.figure.Figure at 0x110607850>"
      ]
     },
     "metadata": {},
     "output_type": "display_data"
    }
   ],
   "source": [
    "from xgboost import XGBClassifier\n",
    "model = XGBClassifier(n_estimators=1000)\n",
    "model.fit(trainX,trainY)\n",
    "#model.plot_importance(bst)\n",
    "#name=\"XGBoost\"\n",
    "fit(model,name,data,cv=False)"
   ]
  },
  {
   "cell_type": "markdown",
   "metadata": {},
   "source": [
    "We can compare the prediction with the Manuel selection and the Catalog selection as the following: "
   ]
  },
  {
   "cell_type": "code",
   "execution_count": 132,
   "metadata": {
    "collapsed": false
   },
   "outputs": [
    {
     "name": "stdout",
     "output_type": "stream",
     "text": [
      "fold 1:\n",
      "predict Transit 41\n",
      "real Transit 41\n",
      "real Transit selected by eye 21\n",
      "predicted Transit that's real 37\n",
      "predicted Transits selected by eye 19\n",
      "fold 2:\n",
      "predict Transit 36\n",
      "real Transit 41\n",
      "real Transit selected by eye 19\n",
      "predicted Transit that's real 33\n",
      "predicted Transits selected by eye 17\n",
      "fold 3:\n",
      "predict Transit 40\n",
      "real Transit 41\n",
      "real Transit selected by eye 21\n",
      "predicted Transit that's real 35\n",
      "predicted Transits selected by eye 18\n",
      "fold 4:\n",
      "predict Transit 33\n",
      "real Transit 40\n",
      "real Transit selected by eye 17\n",
      "predicted Transit that's real 28\n",
      "predicted Transits selected by eye 13\n",
      "fold 5:\n",
      "predict Transit 35\n",
      "real Transit 40\n",
      "real Transit selected by eye 24\n",
      "predicted Transit that's real 28\n",
      "predicted Transits selected by eye 18\n"
     ]
    }
   ],
   "source": [
    "from sklearn.cross_validation import StratifiedKFold\n",
    "\n",
    "model=RandomForestClassifier(n_estimators=3000,n_jobs=-1,class_weight='balanced_subsample')\n",
    "\n",
    "skf=StratifiedKFold(Y,n_folds=5)\n",
    "i=1\n",
    "for train_index,test_index in skf:\n",
    "    trainX=X.iloc[train_index];testX=X.iloc[test_index]\n",
    "    trainY=np.array(Y)[train_index];testY=np.array(Y)[test_index]\n",
    "    #print train_index\n",
    "    traincatY=np.array(df['CatalogY'])[train_index];testcatY=np.array(df['CatalogY'])[test_index]\n",
    "    trainmanY=np.array(df['ManuleY'])[train_index];testmanY=np.array(df['ManuleY'])[test_index]\n",
    "    model.fit(trainX,trainY)\n",
    "    predY=model.predict(testX)\n",
    "    \n",
    "    \n",
    "    flag1=(predY==1)*(predY==np.array(testY))\n",
    "\n",
    "    flag2=(predY==1)*(predY==np.array(testmanY))\n",
    "    print \"fold %d:\" % i\n",
    "    print \"predict Transit %d\" % len(predY[predY==1])\n",
    "    print \"real Transit %d\" % len(testY[testY==1])\n",
    "    print \"real Transit selected by eye %d\" % len(testmanY[testmanY==1])\n",
    "    print \"predicted Transit that's real %d\" % len(predY[flag1])\n",
    "    print \"predicted Transits selected by eye %d\" % len(predY[flag2])\n",
    "    i+=1"
   ]
  },
  {
   "cell_type": "markdown",
   "metadata": {},
   "source": [
    "### Feature Selection"
   ]
  },
  {
   "cell_type": "code",
   "execution_count": 60,
   "metadata": {
    "collapsed": false
   },
   "outputs": [
    {
     "data": {
      "text/plain": [
       "RandomForestClassifier(bootstrap=True, class_weight=None, criterion='gini',\n",
       "            max_depth=None, max_features='auto', max_leaf_nodes=None,\n",
       "            min_samples_leaf=1, min_samples_split=2,\n",
       "            min_weight_fraction_leaf=0.0, n_estimators=1000, n_jobs=1,\n",
       "            oob_score=False, random_state=None, verbose=0,\n",
       "            warm_start=False)"
      ]
     },
     "execution_count": 60,
     "metadata": {},
     "output_type": "execute_result"
    }
   ],
   "source": [
    "featurelist=X.columns\n",
    "rfc= RandomForestClassifier(n_estimators=1000)\n",
    "rfc.fit(trainX, trainY)"
   ]
  },
  {
   "cell_type": "code",
   "execution_count": 61,
   "metadata": {
    "collapsed": false
   },
   "outputs": [
    {
     "name": "stdout",
     "output_type": "stream",
     "text": [
      "Feature ranking:\n",
      "1. feature 11 (BLS_deltaChi2_1_0 0.177686)\n",
      "2. feature 2 (BLS_SN_1_0 0.149139)\n",
      "3. feature 19 (BLS_SignaltoPinknoise_1_0 0.146289)\n",
      "4. feature 3 (BLS_SR_1_0 0.051140)\n",
      "5. feature 12 (BLS_fraconenight_1_0 0.041260)\n",
      "6. feature 5 (BLS_Depth_1_0 0.039411)\n",
      "7. feature 4 (BLS_SDE_1_0 0.035098)\n",
      "8. feature 13 (BLS_Npointsintransit_1_0 0.030082)\n",
      "9. feature 6 (BLS_Qtran_1_0 0.029436)\n",
      "10. feature 16 (BLS_Npointsaftertransit_1_0 0.025583)\n",
      "11. feature 7 (BLS_Qingress_1_0 0.023025)\n",
      "12. feature 15 (BLS_Npointsbeforetransit_1_0 0.017720)\n",
      "13. feature 18 (BLS_Whitenoise_1_0 0.012853)\n",
      "14. feature 1 (BLS_Tc_1_0 0.011682)\n",
      "15. feature 0 (BLS_Period_1_0 0.011579)\n",
      "16. feature 8 (BLS_OOTmag_1_0 0.010918)\n",
      "17. feature 20 (P0 0.010861)\n",
      "18. feature 14 (BLS_Ntransits_1_0 0.010812)\n",
      "19. feature 37 (P17 0.009331)\n",
      "20. feature 9 (BLS_i1_1_0 0.009149)\n",
      "21. feature 23 (P3 0.008815)\n",
      "22. feature 27 (P7 0.008669)\n",
      "23. feature 39 (P19 0.008580)\n",
      "24. feature 26 (P6 0.008536)\n",
      "25. feature 22 (P2 0.008022)\n",
      "26. feature 25 (P5 0.008005)\n",
      "27. feature 34 (P14 0.007608)\n",
      "28. feature 33 (P13 0.007596)\n",
      "29. feature 36 (P16 0.007581)\n",
      "30. feature 17 (BLS_Rednoise_1_0 0.007529)\n",
      "31. feature 31 (P11 0.007363)\n",
      "32. feature 32 (P12 0.007345)\n",
      "33. feature 38 (P18 0.007085)\n",
      "34. feature 10 (BLS_i2_1_0 0.006822)\n",
      "35. feature 29 (P9 0.006808)\n",
      "36. feature 30 (P10 0.006807)\n",
      "37. feature 35 (P15 0.006536)\n",
      "38. feature 24 (P4 0.005960)\n",
      "39. feature 21 (P1 0.005725)\n",
      "40. feature 28 (P8 0.005554)\n"
     ]
    }
   ],
   "source": [
    "importances = rfc.feature_importances_\n",
    "std = np.std([tree.feature_importances_ for tree in rfc.estimators_],\n",
    "             axis=0)\n",
    "indices = np.argsort(importances)[::-1]\n",
    "\n",
    "# Print the feature ranking\n",
    "print(\"Feature ranking:\")\n",
    "threshold=0.02\n",
    "droplist=[]\n",
    "for f in range(X.shape[1]):\n",
    "    if importances[indices[f]]<threshold:\n",
    "        droplist.append(featurelist[indices[f]])\n",
    "    print(\"%d. feature %d (%s %f)\" % (f + 1, indices[f], featurelist[indices[f]],importances[indices[f]]))"
   ]
  },
  {
   "cell_type": "code",
   "execution_count": 62,
   "metadata": {
    "collapsed": false
   },
   "outputs": [
    {
     "data": {
      "text/html": [
       "<div>\n",
       "<table border=\"1\" class=\"dataframe\">\n",
       "  <thead>\n",
       "    <tr style=\"text-align: right;\">\n",
       "      <th></th>\n",
       "      <th>BLS_SN_1_0</th>\n",
       "      <th>BLS_SR_1_0</th>\n",
       "      <th>BLS_SDE_1_0</th>\n",
       "      <th>BLS_Depth_1_0</th>\n",
       "      <th>BLS_Qtran_1_0</th>\n",
       "      <th>BLS_Qingress_1_0</th>\n",
       "      <th>BLS_deltaChi2_1_0</th>\n",
       "      <th>BLS_fraconenight_1_0</th>\n",
       "      <th>BLS_Npointsintransit_1_0</th>\n",
       "      <th>BLS_Npointsaftertransit_1_0</th>\n",
       "      <th>BLS_SignaltoPinknoise_1_0</th>\n",
       "    </tr>\n",
       "  </thead>\n",
       "  <tbody>\n",
       "    <tr>\n",
       "      <th>541</th>\n",
       "      <td>2.49988</td>\n",
       "      <td>0.00688</td>\n",
       "      <td>2.49988</td>\n",
       "      <td>0.04479</td>\n",
       "      <td>0.03663</td>\n",
       "      <td>0.29572</td>\n",
       "      <td>-185.70846</td>\n",
       "      <td>0.99805</td>\n",
       "      <td>19.0</td>\n",
       "      <td>20.0</td>\n",
       "      <td>13.86700</td>\n",
       "    </tr>\n",
       "    <tr>\n",
       "      <th>604</th>\n",
       "      <td>4.39096</td>\n",
       "      <td>0.00347</td>\n",
       "      <td>4.64008</td>\n",
       "      <td>0.05524</td>\n",
       "      <td>0.01054</td>\n",
       "      <td>0.26842</td>\n",
       "      <td>-28.23808</td>\n",
       "      <td>0.41000</td>\n",
       "      <td>6.0</td>\n",
       "      <td>6.0</td>\n",
       "      <td>10.97904</td>\n",
       "    </tr>\n",
       "    <tr>\n",
       "      <th>702</th>\n",
       "      <td>3.29002</td>\n",
       "      <td>0.00713</td>\n",
       "      <td>3.20909</td>\n",
       "      <td>0.10175</td>\n",
       "      <td>0.01909</td>\n",
       "      <td>0.45928</td>\n",
       "      <td>-176.90254</td>\n",
       "      <td>1.00000</td>\n",
       "      <td>7.0</td>\n",
       "      <td>8.0</td>\n",
       "      <td>32.06993</td>\n",
       "    </tr>\n",
       "    <tr>\n",
       "      <th>877</th>\n",
       "      <td>6.85637</td>\n",
       "      <td>0.02010</td>\n",
       "      <td>4.92262</td>\n",
       "      <td>0.07588</td>\n",
       "      <td>0.13405</td>\n",
       "      <td>0.27883</td>\n",
       "      <td>-353.58304</td>\n",
       "      <td>0.11346</td>\n",
       "      <td>65.0</td>\n",
       "      <td>65.0</td>\n",
       "      <td>109.17561</td>\n",
       "    </tr>\n",
       "    <tr>\n",
       "      <th>921</th>\n",
       "      <td>3.56150</td>\n",
       "      <td>0.00390</td>\n",
       "      <td>3.49625</td>\n",
       "      <td>0.05504</td>\n",
       "      <td>0.01635</td>\n",
       "      <td>0.41483</td>\n",
       "      <td>-184.19155</td>\n",
       "      <td>1.00000</td>\n",
       "      <td>6.0</td>\n",
       "      <td>6.0</td>\n",
       "      <td>33.67623</td>\n",
       "    </tr>\n",
       "  </tbody>\n",
       "</table>\n",
       "</div>"
      ],
      "text/plain": [
       "     BLS_SN_1_0  BLS_SR_1_0  BLS_SDE_1_0  BLS_Depth_1_0  BLS_Qtran_1_0  \\\n",
       "541     2.49988     0.00688      2.49988        0.04479        0.03663   \n",
       "604     4.39096     0.00347      4.64008        0.05524        0.01054   \n",
       "702     3.29002     0.00713      3.20909        0.10175        0.01909   \n",
       "877     6.85637     0.02010      4.92262        0.07588        0.13405   \n",
       "921     3.56150     0.00390      3.49625        0.05504        0.01635   \n",
       "\n",
       "     BLS_Qingress_1_0  BLS_deltaChi2_1_0  BLS_fraconenight_1_0  \\\n",
       "541           0.29572         -185.70846               0.99805   \n",
       "604           0.26842          -28.23808               0.41000   \n",
       "702           0.45928         -176.90254               1.00000   \n",
       "877           0.27883         -353.58304               0.11346   \n",
       "921           0.41483         -184.19155               1.00000   \n",
       "\n",
       "     BLS_Npointsintransit_1_0  BLS_Npointsaftertransit_1_0  \\\n",
       "541                      19.0                         20.0   \n",
       "604                       6.0                          6.0   \n",
       "702                       7.0                          8.0   \n",
       "877                      65.0                         65.0   \n",
       "921                       6.0                          6.0   \n",
       "\n",
       "     BLS_SignaltoPinknoise_1_0  \n",
       "541                   13.86700  \n",
       "604                   10.97904  \n",
       "702                   32.06993  \n",
       "877                  109.17561  \n",
       "921                   33.67623  "
      ]
     },
     "execution_count": 62,
     "metadata": {},
     "output_type": "execute_result"
    }
   ],
   "source": [
    "X_selected=X.drop(droplist,axis=1)\n",
    "X_selected.head()"
   ]
  },
  {
   "cell_type": "code",
   "execution_count": 63,
   "metadata": {
    "collapsed": false
   },
   "outputs": [
    {
     "name": "stdout",
     "output_type": "stream",
     "text": [
      "#####################################\n",
      "Result using RandomForestClassifier(bootstrap=True, class_weight='balanced_subsample',\n",
      "            criterion='gini', max_depth=None, max_features='auto',\n",
      "            max_leaf_nodes=None, min_samples_leaf=1, min_samples_split=2,\n",
      "            min_weight_fraction_leaf=0.0, n_estimators=1000, n_jobs=-1,\n",
      "            oob_score=False, random_state=None, verbose=0,\n",
      "            warm_start=False)\n",
      "f1 score from train test split 0.864865\n",
      "f1 score from CV5 0.837376\n",
      "[[772   6]\n",
      " [  4  32]]\n"
     ]
    },
    {
     "data": {
      "image/png": "[encoded data removed]",
      "text/plain": [
       "<matplotlib.figure.Figure at 0x11019b4d0>"
      ]
     },
     "metadata": {},
     "output_type": "display_data"
    }
   ],
   "source": [
    "model=RandomForestClassifier(n_estimators=1000,n_jobs=-1,class_weight='balanced_subsample')\n",
    "name=\"RFC\"\n",
    "fit(model,name,data)"
   ]
  },
  {
   "cell_type": "markdown",
   "metadata": {},
   "source": [
    "## Tasks for Today: \n",
    "- optimize the models.\n",
    "- lower the threshold of what is True in combinedY, and determine a limit of 0.7 f1 score.\n",
    "- feature engerneering with unsupervised learning using the LC files. \n",
    "- More feature selection. \n",
    "- Try the larger data set if interested. "
   ]
  },
  {
   "cell_type": "code",
   "execution_count": null,
   "metadata": {
    "collapsed": true
   },
   "outputs": [],
   "source": []
  }
 ],
 "metadata": {
  "kernelspec": {
   "display_name": "Python 2",
   "language": "python",
   "name": "python2"
  },
  "language_info": {
   "codemirror_mode": {
    "name": "ipython",
    "version": 2
   },
   "file_extension": ".py",
   "mimetype": "text/x-python",
   "name": "python",
   "nbconvert_exporter": "python",
   "pygments_lexer": "ipython2",
   "version": "2.7.12"
  }
 },
 "nbformat": 4,
 "nbformat_minor": 0
}
