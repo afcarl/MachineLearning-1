{
 "cells": [
  {
   "cell_type": "markdown",
   "metadata": {},
   "source": [
    "# MachineLearningWorkShop at UCSC\n",
    "## Aug 18th - Learning with TESS Simulated data"
   ]
  },
  {
   "cell_type": "markdown",
   "metadata": {},
   "source": [
    "### Last month we explored all type of learning algorithms with simulated light curves including:\n",
    "- different planet sizes\n",
    "- various period\n",
    "- various white/red noise level\n",
    "- different baseline\n",
    "\n",
    "While the result looked promising, we need to extend our experiments to more realistic data. "
   ]
  },
  {
   "cell_type": "markdown",
   "metadata": {},
   "source": [
    "The data set we are using today is created from **SPyFFI**, an image simulator created by Zack Berta and his undergrad student Jacobi Kosiarok. \n",
    "\n",
    "The ingrediants included by **SPyFFI** are:\n",
    "- catalogs of real stars\n",
    "- somewhat realistic Camera and CCD effects, such as PRF variation, readout smear, resembling the TESS telescope\n",
    "- spacecraft effects such as jitter/focusing change\n",
    "- somewhat realistic noise buget\n",
    "- transits and stellar variability (sine curves) draw from Kepler"
   ]
  },
  {
   "cell_type": "markdown",
   "metadata": {},
   "source": [
    "**SPyFFI** out puts image time series like this:\n",
    "![alt text](ds9.jpeg)"
   ]
  },
  {
   "cell_type": "markdown",
   "metadata": {},
   "source": [
    "We process the images from 10 days of TESS observations with standard photometry pipeline, and create light curves for all the stars with TESS magnituded brighter than 14. \n",
    "\n",
    "For the region of sky we simulated (6 by 6 square degree), this results in 16279 stars. To make our tasks today simpler, we are going to work with only ~4000 stars.  "
   ]
  },
  {
   "cell_type": "code",
   "execution_count": 1,
   "metadata": {
    "collapsed": false
   },
   "outputs": [
    {
     "name": "stderr",
     "output_type": "stream",
     "text": [
      "/opt/local/Library/Frameworks/Python.framework/Versions/2.7/lib/python2.7/site-packages/sklearn/cross_validation.py:42: DeprecationWarning: This module has been deprecated in favor of the model_selection module into which all the refactored classes and functions are moved. Also note that the interface of the new CV iterators are different from that of this module. This module will be removed in 0.20.\n",
      "  \"This module will be removed in 0.20.\", DeprecationWarning)\n",
      "/opt/local/Library/Frameworks/Python.framework/Versions/2.7/lib/python2.7/site-packages/sklearn/grid_search.py:43: DeprecationWarning: This module has been deprecated in favor of the model_selection module into which all the refactored classes and functions are moved. This module will be removed in 0.20.\n",
      "  DeprecationWarning)\n",
      "/Users/chelsea/miniconda2/lib/python2.7/site-packages/matplotlib/font_manager.py:273: UserWarning: Matplotlib is building the font cache using fc-list. This may take a moment.\n",
      "  warnings.warn('Matplotlib is building the font cache using fc-list. This may take a moment.')\n"
     ]
    }
   ],
   "source": [
    "import sklearn\n",
    "from sklearn.linear_model import LogisticRegression\n",
    "from sklearn.cross_validation import train_test_split\n",
    "from sklearn.utils import shuffle\n",
    "from sklearn import metrics\n",
    "from sklearn.metrics import roc_curve\n",
    "from sklearn.metrics import classification_report\n",
    "from sklearn.decomposition import PCA\n",
    "from sklearn.svm import SVC\n",
    "from sklearn.cross_validation import cross_val_score\n",
    "from sklearn.ensemble import RandomForestClassifier\n",
    "from sklearn.ensemble import GradientBoostingClassifier\n",
    "from sklearn.preprocessing import StandardScaler\n",
    "from sklearn.grid_search import GridSearchCV\n",
    "import matplotlib\n",
    "from matplotlib import pyplot as plt\n",
    "import pandas as pd\n",
    "import numpy as np\n",
    "%matplotlib inline"
   ]
  },
  {
   "cell_type": "code",
   "execution_count": 30,
   "metadata": {
    "collapsed": true
   },
   "outputs": [],
   "source": [
    "def make_ROC_curve(testY, predY, name):\n",
    "    fig2 = plt.figure()\n",
    "    ax= fig2.add_subplot(1,1,1)\n",
    "    fpr, tpr, _ = roc_curve(testY, predY)\n",
    "    ax.plot(fpr, tpr, label = name)\n",
    "    ax.set_title(('ROC Curve for %s') % name)\n",
    "    ax.set_ylabel('True Positive Rate')\n",
    "    ax.set_xlabel('False Positive Rate')\n",
    "def collect_lc_feature(idlist):\n",
    "    LCfeature=np.zeros([len(idlist),481])\n",
    "    count=0\n",
    "    for i in idlist:\n",
    "        #print i\n",
    "        infile=\"LTFsmall/\"+str(i)+\".ltf\"\n",
    "        lc=np.loadtxt(infile)[:,1]\n",
    "        LCfeature[count,0]=i\n",
    "        LCfeature[count,1:]=lc\n",
    "        count+=1\n",
    "    return LCfeature\n",
    "def plot_confusion_matrix(cm, title='Confusion matrix', cmap=plt.cm.Blues):\n",
    "    plt.imshow(cm, interpolation='nearest', cmap=cmap)\n",
    "    plt.title(title)\n",
    "    plt.colorbar()\n",
    "    tick_marks = np.arange(2)\n",
    "    plt.xticks(tick_marks, ['false positives', 'transits'], rotation=45)\n",
    "    plt.yticks(tick_marks, ['false positives', 'transits'])\n",
    "    plt.tight_layout()\n",
    "    plt.ylabel('True label')\n",
    "    plt.xlabel('Predicted label')\n",
    "def fit(model,name,data,cv=True):\n",
    "    trainX,trainY,testX,testY,X,Y=data\n",
    "    model.fit(trainX, trainY)\n",
    "    predY = model.predict(testX)\n",
    "    f1score = metrics.f1_score(testY, predY)\n",
    "    cm = metrics.confusion_matrix(testY, predY)\n",
    "    plot_confusion_matrix(cm)\n",
    "    predY=model.predict_proba(testX)[:,1]\n",
    "    rocscore = metrics.roc_auc_score(testY, predY)\n",
    "    precision, recall, thresholds = metrics.precision_recall_curve(testY, predY)\n",
    "    aucscore=metrics.auc(precision,recall,reorder=True)\n",
    "    \n",
    "    print \"#####################################\"\n",
    "    print \"Result using\",model\n",
    "    print \"f1 score from train test split %f\" % f1score\n",
    "    print \"roc score from train test split %f\" % rocscore\n",
    "    print \"auc score from train test split %f\" % aucscore\n",
    "    if cv:\n",
    "        #cvscore= cross_val_score(model, X, Y, cv = 5, scoring = 'f1')\n",
    "        cvscore= cross_val_score(model, X, Y, cv = 5, scoring = 'roc_auc')\n",
    "        print \"f1 score from CV5 %f\" % np.mean(cvscore)\n",
    "    \n",
    "    \n",
    "    print cm\n",
    "    make_ROC_curve(testY,predY,name)\n",
    "    return"
   ]
  },
  {
   "cell_type": "markdown",
   "metadata": {},
   "source": [
    "Let's first look at what the TESS light curves: \n",
    "\n",
    "TESS_simulated_10day_small.csv is the combined feature file.\n",
    "\n",
    "TESS_simulated_lc_small.csv is the light curve file."
   ]
  },
  {
   "cell_type": "code",
   "execution_count": 37,
   "metadata": {
    "collapsed": false
   },
   "outputs": [],
   "source": [
    "#df=pd.read_csv(\"TESS_simulated_10day_small.csv\",index_col=0)\n",
    "#df=pd.read_csv(\"TESS_simulateddata_combinedfeatures.csv\",index_col=0)\n",
    "df=pd.read_csv(\"TESSfield_19h_44d_combinedfeatures.csv\")"
   ]
  },
  {
   "cell_type": "code",
   "execution_count": 38,
   "metadata": {
    "collapsed": false
   },
   "outputs": [],
   "source": [
    "#LCfeature=pd.DataFrame(collect_lc_feature(df['Ids']),columns=['Ids']+list(np.arange(480)))\n",
    "#LCfeature.to_csv\n",
    "#LCfeature=pd.read_csv(\"TESS_simulated_lc_small.csv\",index_col=0)"
   ]
  },
  {
   "cell_type": "code",
   "execution_count": 39,
   "metadata": {
    "collapsed": false
   },
   "outputs": [],
   "source": [
    "#plt.plot(LCfeature.iloc[-1,1:],'.')"
   ]
  },
  {
   "cell_type": "code",
   "execution_count": 40,
   "metadata": {
    "collapsed": false
   },
   "outputs": [],
   "source": [
    "#plt.plot(LCfeature.iloc[0,:],'.')"
   ]
  },
  {
   "cell_type": "markdown",
   "metadata": {},
   "source": [
    "The combined feature files contain features from Box Least Squal measurements, and 20 PCA components from the light curve. Later on hopefully we can explore how to create new features from the light curves.\n",
    "\n",
    "Let's first examine the columns in the combined feature files: "
   ]
  },
  {
   "cell_type": "code",
   "execution_count": 41,
   "metadata": {
    "collapsed": false
   },
   "outputs": [
    {
     "data": {
      "text/plain": [
       "Index([u'BLS_Period_1_0', u'BLS_Tc_1_0', u'BLS_SN_1_0', u'BLS_SR_1_0',\n",
       "       u'BLS_SDE_1_0', u'BLS_Depth_1_0', u'BLS_Qtran_1_0', u'BLS_Qingress_1_0',\n",
       "       u'BLS_OOTmag_1_0', u'BLS_i1_1_0', u'BLS_i2_1_0', u'BLS_deltaChi2_1_0',\n",
       "       u'BLS_fraconenight_1_0', u'BLS_Npointsintransit_1_0',\n",
       "       u'BLS_Ntransits_1_0', u'BLS_Npointsbeforetransit_1_0',\n",
       "       u'BLS_Npointsaftertransit_1_0', u'BLS_Rednoise_1_0',\n",
       "       u'BLS_Whitenoise_1_0', u'BLS_SignaltoPinknoise_1_0', u'Ids', u'ManuleY',\n",
       "       u'Catalog_Epoch', u'Catalog_Period', u'Depth', u'SNR', u'CatalogY',\n",
       "       u'CombinedY'],\n",
       "      dtype='object')"
      ]
     },
     "execution_count": 41,
     "metadata": {},
     "output_type": "execute_result"
    }
   ],
   "source": [
    "df.columns"
   ]
  },
  {
   "cell_type": "markdown",
   "metadata": {},
   "source": [
    "Columns **Ids**, **Catalog_Period**, **Depth**, **Catalog_Epoch** records the information we have regarding the injected transits. Anything with period smaller than 0 is not a transit. \n",
    "\n",
    "**SNR** is the signal to noise calculated for the transits using the catalog value. \n",
    "\n",
    "SNR=\\sqrt{Ntransit}*Depth/200mmag\n",
    "\n",
    "There are three type of Y values included in this feature file:\n",
    "\n",
    "-**CatalogY** marks **True** for all the transit planets with **SNR** larger than 8.5 and **BLS_SignaltoPinkNoise_1_0** larger than 7. \n",
    "\n",
    "-**ManuleY** marks **True** all the transits identified by eye. \n",
    "\n",
    "-**CombinedY** marks **True** if either **CatalogY** and **ManuleY** is True. \n",
    "\n",
    "The signals identified by manule effort but not by Catalog is due to blending. The signal missed by manule effort is either because of low signal to noise or due to cuts in Ntransit and Q value (standard practice before manuel inspection). "
   ]
  },
  {
   "cell_type": "markdown",
   "metadata": {},
   "source": [
    "Let's drop the irrelevent columns before training:"
   ]
  },
  {
   "cell_type": "code",
   "execution_count": 42,
   "metadata": {
    "collapsed": false
   },
   "outputs": [],
   "source": [
    "X=df.drop(['Ids','CatalogY','ManuleY','CombinedY','Catalog_Period','Depth','Catalog_Epoch','SNR'],axis=1)\n",
    "#print X.isnull().any()"
   ]
  },
  {
   "cell_type": "code",
   "execution_count": 43,
   "metadata": {
    "collapsed": true
   },
   "outputs": [],
   "source": [
    "Y=df['CombinedY']"
   ]
  },
  {
   "cell_type": "code",
   "execution_count": 49,
   "metadata": {
    "collapsed": false
   },
   "outputs": [
    {
     "name": "stdout",
     "output_type": "stream",
     "text": [
      "(31343, 20) (932,)\n"
     ]
    }
   ],
   "source": [
    "trainX, testX, trainY, testY= train_test_split(X, Y,test_size = 0.2)\n",
    "data=[trainX,trainY,testX,testY,X,Y]\n",
    "print X.shape, Y[Y==1].shape"
   ]
  },
  {
   "cell_type": "markdown",
   "metadata": {},
   "source": [
    "We show the results from some standard algorithms here: "
   ]
  },
  {
   "cell_type": "code",
   "execution_count": 45,
   "metadata": {
    "collapsed": false
   },
   "outputs": [
    {
     "name": "stdout",
     "output_type": "stream",
     "text": [
      "#####################################\n",
      "Result using RandomForestClassifier(bootstrap=True, class_weight={0: 10, 1: 1},\n",
      "            criterion='gini', max_depth=None, max_features='auto',\n",
      "            max_leaf_nodes=None, min_samples_leaf=1, min_samples_split=2,\n",
      "            min_weight_fraction_leaf=0.0, n_estimators=1000, n_jobs=-1,\n",
      "            oob_score=False, random_state=None, verbose=0,\n",
      "            warm_start=False)\n",
      "f1 score from train test split 0.852761\n",
      "roc score from train test split 0.962638\n",
      "auc score from train test split 0.853244\n",
      "[[6082   13]\n",
      " [  35  139]]\n"
     ]
    },
    {
     "data": {
      "image/png": "[encoded data removed]",
      "text/plain": [
       "<matplotlib.figure.Figure at 0x10379a410>"
      ]
     },
     "metadata": {},
     "output_type": "display_data"
    },
    {
     "data": {
      "image/png": "[encoded data removed]",
      "text/plain": [
       "<matplotlib.figure.Figure at 0x112758710>"
      ]
     },
     "metadata": {},
     "output_type": "display_data"
    }
   ],
   "source": [
    "model=RandomForestClassifier(n_estimators=1000,class_weight={0:10,1:1},n_jobs=-1)\n",
    "name=\"RFC\"\n",
    "fit(model,name,data,cv=False)"
   ]
  },
  {
   "cell_type": "code",
   "execution_count": 46,
   "metadata": {
    "collapsed": false
   },
   "outputs": [
    {
     "name": "stdout",
     "output_type": "stream",
     "text": [
      "#####################################\n",
      "Result using GradientBoostingClassifier(init=None, learning_rate=0.1, loss='deviance',\n",
      "              max_depth=3, max_features=None, max_leaf_nodes=None,\n",
      "              min_samples_leaf=1, min_samples_split=2,\n",
      "              min_weight_fraction_leaf=0.0, n_estimators=1000,\n",
      "              presort='auto', random_state=None, subsample=1.0, verbose=0,\n",
      "              warm_start=False)\n",
      "f1 score from train test split 0.817391\n",
      "roc score from train test split 0.950709\n",
      "auc score from train test split 0.718775\n",
      "[[6065   30]\n",
      " [  33  141]]\n"
     ]
    },
    {
     "data": {
      "image/png": "[encoded data removed]",
      "text/plain": [
       "<matplotlib.figure.Figure at 0x10fe2dd50>"
      ]
     },
     "metadata": {},
     "output_type": "display_data"
    },
    {
     "data": {
      "image/png": "[encoded data removed]",
      "text/plain": [
       "<matplotlib.figure.Figure at 0x112799ad0>"
      ]
     },
     "metadata": {},
     "output_type": "display_data"
    }
   ],
   "source": [
    "model=GradientBoostingClassifier(n_estimators=1000)\n",
    "name=\"GBC\"\n",
    "fit(model,name,data,cv=False)"
   ]
  },
  {
   "cell_type": "code",
   "execution_count": 47,
   "metadata": {
    "collapsed": false
   },
   "outputs": [
    {
     "name": "stdout",
     "output_type": "stream",
     "text": [
      "#####################################\n",
      "Result using XGBClassifier(base_score=0.5, colsample_bylevel=1, colsample_bytree=1,\n",
      "       gamma=0, learning_rate=0.1, max_delta_step=0, max_depth=3,\n",
      "       min_child_weight=1, missing=None, n_estimators=1000, nthread=-1,\n",
      "       objective='binary:logistic', reg_alpha=0, reg_lambda=1,\n",
      "       scale_pos_weight=1, seed=0, silent=True, subsample=1)\n",
      "f1 score from train test split 0.857143\n",
      "roc score from train test split 0.951256\n",
      "auc score from train test split 0.845125\n",
      "[[6081   14]\n",
      " [  33  141]]\n"
     ]
    },
    {
     "data": {
      "image/png": "[encoded data removed]",
      "text/plain": [
       "<matplotlib.figure.Figure at 0x110e76850>"
      ]
     },
     "metadata": {},
     "output_type": "display_data"
    },
    {
     "data": {
      "image/png": "[encoded data removed]",
      "text/plain": [
       "<matplotlib.figure.Figure at 0x11181d2d0>"
      ]
     },
     "metadata": {},
     "output_type": "display_data"
    }
   ],
   "source": [
    "from xgboost import XGBClassifier\n",
    "model = XGBClassifier(n_estimators=1000)\n",
    "#model=XGBClassifier(learning_rate=0.1,\n",
    "#    n_estimators=1000,\n",
    "#    max_depth=5,\n",
    "#    min_child_weight=1,\n",
    "#    gamma=0,\n",
    "#    subsample=0.8,\n",
    "#    colsample_bytree=0.8,\n",
    "#    objective='binary:logistic')\n",
    "model.fit(trainX,trainY)\n",
    "#model.plot_importance(bst)\n",
    "#name=\"XGBoost\"\n",
    "fit(model,name,data,cv=False)"
   ]
  },
  {
   "cell_type": "markdown",
   "metadata": {},
   "source": [
    "We can compare the prediction with the Manuel selection and the Catalog selection as the following: "
   ]
  },
  {
   "cell_type": "code",
   "execution_count": 48,
   "metadata": {
    "collapsed": false
   },
   "outputs": [
    {
     "name": "stdout",
     "output_type": "stream",
     "text": [
      "#####################################\n",
      "fold 1:\n",
      "f1 score from train test split 0.843823\n",
      "roc score from train test split 0.958277\n",
      "auc score from train test split 0.853169\n",
      "oob score from RF 0.989875\n",
      "predict Transit 196\n",
      "real Transit 233\n",
      "real Transit selected by eye 180\n",
      "predicted Transit that's real 181\n",
      "predicted Transits selected by eye 173\n",
      "#####################################\n",
      "fold 2:\n",
      "f1 score from train test split 0.810427\n",
      "roc score from train test split 0.943093\n",
      "auc score from train test split 0.823545\n",
      "oob score from RF 0.990684\n",
      "predict Transit 189\n",
      "real Transit 233\n",
      "real Transit selected by eye 165\n",
      "predicted Transit that's real 171\n",
      "predicted Transits selected by eye 156\n",
      "#####################################\n",
      "fold 3:\n",
      "f1 score from train test split 0.822695\n",
      "roc score from train test split 0.954601\n",
      "auc score from train test split 0.845070\n",
      "oob score from RF 0.990173\n",
      "predict Transit 190\n",
      "real Transit 233\n",
      "real Transit selected by eye 177\n",
      "predicted Transit that's real 174\n",
      "predicted Transits selected by eye 169\n",
      "#####################################\n",
      "fold 4:\n",
      "f1 score from train test split 0.837321\n",
      "roc score from train test split 0.956678\n",
      "auc score from train test split 0.849852\n",
      "oob score from RF 0.989876\n",
      "predict Transit 185\n",
      "real Transit 233\n",
      "real Transit selected by eye 178\n",
      "predicted Transit that's real 175\n",
      "predicted Transits selected by eye 170\n"
     ]
    }
   ],
   "source": [
    "from sklearn.cross_validation import StratifiedKFold\n",
    "\n",
    "model=RandomForestClassifier(n_estimators=3000,n_jobs=-1,class_weight='balanced_subsample',oob_score=True)\n",
    "\n",
    "skf=StratifiedKFold(Y,n_folds=4)\n",
    "i=1\n",
    "for train_index,test_index in skf:\n",
    "    trainX=X.iloc[train_index];testX=X.iloc[test_index]\n",
    "    trainY=np.array(Y)[train_index];testY=np.array(Y)[test_index]\n",
    "    #print train_index\n",
    "    traincatY=np.array(df['CatalogY'])[train_index];testcatY=np.array(df['CatalogY'])[test_index]\n",
    "    trainmanY=np.array(df['ManuleY'])[train_index];testmanY=np.array(df['ManuleY'])[test_index]\n",
    "    model.fit(trainX,trainY)\n",
    "    \n",
    "    predY=model.predict_proba(testX)[:,1]\n",
    "    rocscore = metrics.roc_auc_score(testY, predY)\n",
    "    precision, recall, thresholds = metrics.precision_recall_curve(testY, predY)\n",
    "    aucscore=metrics.auc(precision,recall,reorder=True)\n",
    "    predY=model.predict(testX)\n",
    "    f1score = metrics.f1_score(testY, predY)\n",
    "    print \"#####################################\"\n",
    "    print \"fold %d:\" % i\n",
    "    print \"f1 score from train test split %f\" % f1score\n",
    "    print \"roc score from train test split %f\" % rocscore\n",
    "    print \"auc score from train test split %f\" % aucscore\n",
    "    print \"oob score from RF %f\" % model.oob_score_\n",
    "    \n",
    "    flag1=(predY==1)*(predY==np.array(testY))\n",
    "\n",
    "    flag2=(predY==1)*(predY==np.array(testmanY))\n",
    "    \n",
    "    print \"predict Transit %d\" % len(predY[predY==1])\n",
    "    print \"real Transit %d\" % len(testY[testY==1])\n",
    "    print \"real Transit selected by eye %d\" % len(testmanY[testmanY==1])\n",
    "    print \"predicted Transit that's real %d\" % len(predY[flag1])\n",
    "    print \"predicted Transits selected by eye %d\" % len(predY[flag2])\n",
    "    i+=1"
   ]
  },
  {
   "cell_type": "code",
   "execution_count": 22,
   "metadata": {
    "collapsed": false
   },
   "outputs": [
    {
     "name": "stdout",
     "output_type": "stream",
     "text": [
      "#####################################\n",
      "fold 1:\n",
      "f1 score from train test split 0.701031\n",
      "roc score from train test split 0.973986\n",
      "predict Transit 0\n",
      "real Transit 51\n",
      "real Transit selected by eye 21\n",
      "predicted Transit that's real 0\n",
      "predicted Transits selected by eye 0\n",
      "#####################################\n",
      "fold 2:\n",
      "f1 score from train test split 0.733945\n",
      "roc score from train test split 0.992892\n",
      "predict Transit 0\n",
      "real Transit 51\n",
      "real Transit selected by eye 29\n",
      "predicted Transit that's real 0\n",
      "predicted Transits selected by eye 0\n",
      "#####################################\n",
      "fold 3:\n",
      "f1 score from train test split 0.757282\n",
      "roc score from train test split 0.994211\n",
      "predict Transit 0\n",
      "real Transit 51\n",
      "real Transit selected by eye 25\n",
      "predicted Transit that's real 0\n",
      "predicted Transits selected by eye 0\n",
      "#####################################\n",
      "fold 4:\n",
      "f1 score from train test split 0.528736\n",
      "roc score from train test split 0.991854\n",
      "predict Transit 0\n",
      "real Transit 50\n",
      "real Transit selected by eye 27\n",
      "predicted Transit that's real 0\n",
      "predicted Transits selected by eye 0\n"
     ]
    }
   ],
   "source": [
    "model=GradientBoostingClassifier(n_estimators=3000)\n",
    "\n",
    "skf=StratifiedKFold(Y,n_folds=4)\n",
    "i=1\n",
    "for train_index,test_index in skf:\n",
    "    trainX=X.iloc[train_index];testX=X.iloc[test_index]\n",
    "    trainY=np.array(Y)[train_index];testY=np.array(Y)[test_index]\n",
    "    #print train_index\n",
    "    traincatY=np.array(df['CatalogY'])[train_index];testcatY=np.array(df['CatalogY'])[test_index]\n",
    "    trainmanY=np.array(df['ManuleY'])[train_index];testmanY=np.array(df['ManuleY'])[test_index]\n",
    "    model.fit(trainX,trainY)\n",
    "    predY=model.predict(testX)\n",
    "    f1score = metrics.f1_score(testY, predY)\n",
    "    predY=model.predict_proba(testX)[:,1]\n",
    "    rocscore = metrics.roc_auc_score(testY, predY)\n",
    "    \n",
    "    print \"#####################################\"\n",
    "    print \"fold %d:\" % i\n",
    "    print \"f1 score from train test split %f\" % f1score\n",
    "    print \"roc score from train test split %f\" % rocscore\n",
    "    \n",
    "    flag1=(predY==1)*(predY==np.array(testY))\n",
    "\n",
    "    flag2=(predY==1)*(predY==np.array(testmanY))\n",
    "    \n",
    "    print \"predict Transit %d\" % len(predY[predY==1])\n",
    "    print \"real Transit %d\" % len(testY[testY==1])\n",
    "    print \"real Transit selected by eye %d\" % len(testmanY[testmanY==1])\n",
    "    print \"predicted Transit that's real %d\" % len(predY[flag1])\n",
    "    print \"predicted Transits selected by eye %d\" % len(predY[flag2])\n",
    "    i+=1"
   ]
  },
  {
   "cell_type": "code",
   "execution_count": 23,
   "metadata": {
    "collapsed": false
   },
   "outputs": [
    {
     "name": "stdout",
     "output_type": "stream",
     "text": [
      "#####################################\n",
      "fold 1:\n",
      "f1 score from train test split 0.651685\n",
      "roc score from train test split 0.973254\n",
      "predict Transit 0\n",
      "real Transit 51\n",
      "real Transit selected by eye 21\n",
      "predicted Transit that's real 0\n",
      "predicted Transits selected by eye 0\n",
      "#####################################\n",
      "fold 2:\n",
      "f1 score from train test split 0.702703\n",
      "roc score from train test split 0.992267\n",
      "predict Transit 0\n",
      "real Transit 51\n",
      "real Transit selected by eye 29\n",
      "predicted Transit that's real 0\n",
      "predicted Transits selected by eye 0\n",
      "#####################################\n",
      "fold 3:\n",
      "f1 score from train test split 0.792453\n",
      "roc score from train test split 0.986552\n",
      "predict Transit 0\n",
      "real Transit 51\n",
      "real Transit selected by eye 25\n",
      "predicted Transit that's real 0\n",
      "predicted Transits selected by eye 0\n",
      "#####################################\n",
      "fold 4:\n",
      "f1 score from train test split 0.597701\n",
      "roc score from train test split 0.986818\n",
      "predict Transit 0\n",
      "real Transit 50\n",
      "real Transit selected by eye 27\n",
      "predicted Transit that's real 0\n",
      "predicted Transits selected by eye 0\n"
     ]
    }
   ],
   "source": [
    "model=XGBClassifier(n_estimators=3000)\n",
    "#GradientBoostingClassifier(n_estimators=3000)\n",
    "\n",
    "skf=StratifiedKFold(Y,n_folds=4)\n",
    "i=1\n",
    "for train_index,test_index in skf:\n",
    "    trainX=X.iloc[train_index];testX=X.iloc[test_index]\n",
    "    trainY=np.array(Y)[train_index];testY=np.array(Y)[test_index]\n",
    "    #print train_index\n",
    "    traincatY=np.array(df['CatalogY'])[train_index];testcatY=np.array(df['CatalogY'])[test_index]\n",
    "    trainmanY=np.array(df['ManuleY'])[train_index];testmanY=np.array(df['ManuleY'])[test_index]\n",
    "    model.fit(trainX,trainY)\n",
    "    predY=model.predict(testX)\n",
    "    f1score = metrics.f1_score(testY, predY)\n",
    "    predY=model.predict_proba(testX)[:,1]\n",
    "    rocscore = metrics.roc_auc_score(testY, predY)\n",
    "    \n",
    "    print \"#####################################\"\n",
    "    print \"fold %d:\" % i\n",
    "    print \"f1 score from train test split %f\" % f1score\n",
    "    print \"roc score from train test split %f\" % rocscore\n",
    "    \n",
    "    flag1=(predY==1)*(predY==np.array(testY))\n",
    "\n",
    "    flag2=(predY==1)*(predY==np.array(testmanY))\n",
    "    \n",
    "    print \"predict Transit %d\" % len(predY[predY==1])\n",
    "    print \"real Transit %d\" % len(testY[testY==1])\n",
    "    print \"real Transit selected by eye %d\" % len(testmanY[testmanY==1])\n",
    "    print \"predicted Transit that's real %d\" % len(predY[flag1])\n",
    "    print \"predicted Transits selected by eye %d\" % len(predY[flag2])\n",
    "    i+=1"
   ]
  },
  {
   "cell_type": "markdown",
   "metadata": {},
   "source": [
    "### Feature Selection"
   ]
  },
  {
   "cell_type": "code",
   "execution_count": 17,
   "metadata": {
    "collapsed": false
   },
   "outputs": [
    {
     "data": {
      "text/plain": [
       "RandomForestClassifier(bootstrap=True, class_weight=None, criterion='gini',\n",
       "            max_depth=None, max_features='auto', max_leaf_nodes=None,\n",
       "            min_samples_leaf=1, min_samples_split=2,\n",
       "            min_weight_fraction_leaf=0.0, n_estimators=1000, n_jobs=1,\n",
       "            oob_score=False, random_state=None, verbose=0,\n",
       "            warm_start=False)"
      ]
     },
     "execution_count": 17,
     "metadata": {},
     "output_type": "execute_result"
    }
   ],
   "source": [
    "featurelist=X.columns\n",
    "rfc= RandomForestClassifier(n_estimators=1000)\n",
    "rfc.fit(trainX, trainY)"
   ]
  },
  {
   "cell_type": "code",
   "execution_count": 18,
   "metadata": {
    "collapsed": false
   },
   "outputs": [
    {
     "name": "stdout",
     "output_type": "stream",
     "text": [
      "Feature ranking:\n",
      "1. feature 4 (BLS_SDE_1_0 0.157572)\n",
      "2. feature 19 (BLS_SignaltoPinknoise_1_0 0.141197)\n",
      "3. feature 6 (BLS_Qtran_1_0 0.091206)\n",
      "4. feature 11 (BLS_deltaChi2_1_0 0.089137)\n",
      "5. feature 2 (BLS_SN_1_0 0.088532)\n",
      "6. feature 13 (BLS_Npointsintransit_1_0 0.075070)\n",
      "7. feature 16 (BLS_Npointsaftertransit_1_0 0.068895)\n",
      "8. feature 7 (BLS_Qingress_1_0 0.052089)\n",
      "9. feature 12 (BLS_fraconenight_1_0 0.033957)\n",
      "10. feature 15 (BLS_Npointsbeforetransit_1_0 0.028787)\n",
      "11. feature 5 (BLS_Depth_1_0 0.026279)\n",
      "12. feature 0 (BLS_Period_1_0 0.025738)\n",
      "13. feature 3 (BLS_SR_1_0 0.024792)\n",
      "14. feature 18 (BLS_Whitenoise_1_0 0.016861)\n",
      "15. feature 8 (BLS_OOTmag_1_0 0.016691)\n",
      "16. feature 10 (BLS_i2_1_0 0.014491)\n",
      "17. feature 9 (BLS_i1_1_0 0.013679)\n",
      "18. feature 17 (BLS_Rednoise_1_0 0.013438)\n",
      "19. feature 14 (BLS_Ntransits_1_0 0.012886)\n",
      "20. feature 1 (BLS_Tc_1_0 0.008702)\n"
     ]
    }
   ],
   "source": [
    "importances = rfc.feature_importances_\n",
    "std = np.std([tree.feature_importances_ for tree in rfc.estimators_],\n",
    "             axis=0)\n",
    "indices = np.argsort(importances)[::-1]\n",
    "\n",
    "# Print the feature ranking\n",
    "print(\"Feature ranking:\")\n",
    "threshold=0.02\n",
    "droplist=[]\n",
    "for f in range(X.shape[1]):\n",
    "    if importances[indices[f]]<threshold:\n",
    "        droplist.append(featurelist[indices[f]])\n",
    "    print(\"%d. feature %d (%s %f)\" % (f + 1, indices[f], featurelist[indices[f]],importances[indices[f]]))"
   ]
  },
  {
   "cell_type": "code",
   "execution_count": 19,
   "metadata": {
    "collapsed": false
   },
   "outputs": [
    {
     "data": {
      "text/html": [
       "<div>\n",
       "<table border=\"1\" class=\"dataframe\">\n",
       "  <thead>\n",
       "    <tr style=\"text-align: right;\">\n",
       "      <th></th>\n",
       "      <th>BLS_Period_1_0</th>\n",
       "      <th>BLS_SN_1_0</th>\n",
       "      <th>BLS_SR_1_0</th>\n",
       "      <th>BLS_SDE_1_0</th>\n",
       "      <th>BLS_Depth_1_0</th>\n",
       "      <th>BLS_Qtran_1_0</th>\n",
       "      <th>BLS_Qingress_1_0</th>\n",
       "      <th>BLS_deltaChi2_1_0</th>\n",
       "      <th>BLS_fraconenight_1_0</th>\n",
       "      <th>BLS_Npointsintransit_1_0</th>\n",
       "      <th>BLS_Npointsbeforetransit_1_0</th>\n",
       "      <th>BLS_Npointsaftertransit_1_0</th>\n",
       "      <th>BLS_SignaltoPinknoise_1_0</th>\n",
       "    </tr>\n",
       "  </thead>\n",
       "  <tbody>\n",
       "    <tr>\n",
       "      <th>0</th>\n",
       "      <td>1.524372</td>\n",
       "      <td>4.80146</td>\n",
       "      <td>0.00062</td>\n",
       "      <td>5.33565</td>\n",
       "      <td>0.00567</td>\n",
       "      <td>0.01617</td>\n",
       "      <td>0.16729</td>\n",
       "      <td>-7.34176</td>\n",
       "      <td>0.15561</td>\n",
       "      <td>23.0</td>\n",
       "      <td>23.0</td>\n",
       "      <td>24.0</td>\n",
       "      <td>5.78138</td>\n",
       "    </tr>\n",
       "    <tr>\n",
       "      <th>1</th>\n",
       "      <td>2.528612</td>\n",
       "      <td>4.88453</td>\n",
       "      <td>0.00015</td>\n",
       "      <td>5.51377</td>\n",
       "      <td>0.00133</td>\n",
       "      <td>0.01640</td>\n",
       "      <td>0.15589</td>\n",
       "      <td>-1.14564</td>\n",
       "      <td>0.27827</td>\n",
       "      <td>24.0</td>\n",
       "      <td>24.0</td>\n",
       "      <td>24.0</td>\n",
       "      <td>6.28449</td>\n",
       "    </tr>\n",
       "    <tr>\n",
       "      <th>2</th>\n",
       "      <td>1.313471</td>\n",
       "      <td>4.27154</td>\n",
       "      <td>0.00029</td>\n",
       "      <td>4.55308</td>\n",
       "      <td>0.00262</td>\n",
       "      <td>0.01337</td>\n",
       "      <td>0.24601</td>\n",
       "      <td>-3.11193</td>\n",
       "      <td>0.36144</td>\n",
       "      <td>20.0</td>\n",
       "      <td>20.0</td>\n",
       "      <td>18.0</td>\n",
       "      <td>5.51545</td>\n",
       "    </tr>\n",
       "    <tr>\n",
       "      <th>3</th>\n",
       "      <td>4.337904</td>\n",
       "      <td>4.14879</td>\n",
       "      <td>0.00046</td>\n",
       "      <td>4.60567</td>\n",
       "      <td>0.00143</td>\n",
       "      <td>0.08733</td>\n",
       "      <td>0.03137</td>\n",
       "      <td>-1.25945</td>\n",
       "      <td>0.26322</td>\n",
       "      <td>128.0</td>\n",
       "      <td>111.0</td>\n",
       "      <td>127.0</td>\n",
       "      <td>4.01166</td>\n",
       "    </tr>\n",
       "    <tr>\n",
       "      <th>4</th>\n",
       "      <td>2.776622</td>\n",
       "      <td>4.30063</td>\n",
       "      <td>0.00007</td>\n",
       "      <td>4.54099</td>\n",
       "      <td>0.00024</td>\n",
       "      <td>0.10523</td>\n",
       "      <td>0.11883</td>\n",
       "      <td>-0.16030</td>\n",
       "      <td>0.16874</td>\n",
       "      <td>155.0</td>\n",
       "      <td>154.0</td>\n",
       "      <td>154.0</td>\n",
       "      <td>5.74249</td>\n",
       "    </tr>\n",
       "  </tbody>\n",
       "</table>\n",
       "</div>"
      ],
      "text/plain": [
       "   BLS_Period_1_0  BLS_SN_1_0  BLS_SR_1_0  BLS_SDE_1_0  BLS_Depth_1_0  \\\n",
       "0        1.524372     4.80146     0.00062      5.33565        0.00567   \n",
       "1        2.528612     4.88453     0.00015      5.51377        0.00133   \n",
       "2        1.313471     4.27154     0.00029      4.55308        0.00262   \n",
       "3        4.337904     4.14879     0.00046      4.60567        0.00143   \n",
       "4        2.776622     4.30063     0.00007      4.54099        0.00024   \n",
       "\n",
       "   BLS_Qtran_1_0  BLS_Qingress_1_0  BLS_deltaChi2_1_0  BLS_fraconenight_1_0  \\\n",
       "0        0.01617           0.16729           -7.34176               0.15561   \n",
       "1        0.01640           0.15589           -1.14564               0.27827   \n",
       "2        0.01337           0.24601           -3.11193               0.36144   \n",
       "3        0.08733           0.03137           -1.25945               0.26322   \n",
       "4        0.10523           0.11883           -0.16030               0.16874   \n",
       "\n",
       "   BLS_Npointsintransit_1_0  BLS_Npointsbeforetransit_1_0  \\\n",
       "0                      23.0                          23.0   \n",
       "1                      24.0                          24.0   \n",
       "2                      20.0                          20.0   \n",
       "3                     128.0                         111.0   \n",
       "4                     155.0                         154.0   \n",
       "\n",
       "   BLS_Npointsaftertransit_1_0  BLS_SignaltoPinknoise_1_0  \n",
       "0                         24.0                    5.78138  \n",
       "1                         24.0                    6.28449  \n",
       "2                         18.0                    5.51545  \n",
       "3                        127.0                    4.01166  \n",
       "4                        154.0                    5.74249  "
      ]
     },
     "execution_count": 19,
     "metadata": {},
     "output_type": "execute_result"
    }
   ],
   "source": [
    "X_selected=X.drop(droplist,axis=1)\n",
    "X_selected.head()"
   ]
  },
  {
   "cell_type": "code",
   "execution_count": 20,
   "metadata": {
    "collapsed": false
   },
   "outputs": [
    {
     "name": "stdout",
     "output_type": "stream",
     "text": [
      "#####################################\n",
      "Result using RandomForestClassifier(bootstrap=True, class_weight='balanced_subsample',\n",
      "            criterion='gini', max_depth=None, max_features='auto',\n",
      "            max_leaf_nodes=None, min_samples_leaf=1, min_samples_split=2,\n",
      "            min_weight_fraction_leaf=0.0, n_estimators=1000, n_jobs=-1,\n",
      "            oob_score=False, random_state=None, verbose=0,\n",
      "            warm_start=False)\n",
      "f1 score from train test split 0.832845\n",
      "roc score from train test split 0.884637\n",
      "f1 score from CV5 0.826780\n",
      "[[6070   15]\n",
      " [  42  142]]\n"
     ]
    },
    {
     "data": {
      "image/png": "[encoded data removed]",
      "text/plain": [
       "<matplotlib.figure.Figure at 0x1114353d0>"
      ]
     },
     "metadata": {},
     "output_type": "display_data"
    }
   ],
   "source": [
    "model=RandomForestClassifier(n_estimators=1000,n_jobs=-1,class_weight='balanced_subsample')\n",
    "name=\"RFC\"\n",
    "fit(model,name,data)"
   ]
  },
  {
   "cell_type": "markdown",
   "metadata": {},
   "source": [
    "## Tasks for Today: \n",
    "- optimize the models.\n",
    "- lower the threshold of what is True in combinedY, and determine a limit of 0.7 f1 score.\n",
    "- feature engerneering with unsupervised learning using the LC files. \n",
    "- More feature selection. \n",
    "- Try the larger data set if interested. "
   ]
  },
  {
   "cell_type": "code",
   "execution_count": null,
   "metadata": {
    "collapsed": true
   },
   "outputs": [],
   "source": []
  }
 ],
 "metadata": {
  "kernelspec": {
   "display_name": "Python 2",
   "language": "python",
   "name": "python2"
  },
  "language_info": {
   "codemirror_mode": {
    "name": "ipython",
    "version": 2
   },
   "file_extension": ".py",
   "mimetype": "text/x-python",
   "name": "python",
   "nbconvert_exporter": "python",
   "pygments_lexer": "ipython2",
   "version": "2.7.12"
  }
 },
 "nbformat": 4,
 "nbformat_minor": 0
}
